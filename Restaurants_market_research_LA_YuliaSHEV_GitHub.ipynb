{
 "cells": [
  {
   "cell_type": "markdown",
   "metadata": {},
   "source": [
    "# Market research on small robot-run cafe in Los Angeles\n",
    "\n",
    "Given research is held for potential investors in a small robot-run cafe in Los Angeles: checking the current market conditions, ability to maintain cafe's success when the novelty of robot waiters wears off and more. The research is based on the open-source data on restaurants in LA."
   ]
  },
  {
   "cell_type": "markdown",
   "metadata": {},
   "source": [
    "## Table Of Content:\n",
    "1. [Openning data & pre-processing](#start)\n",
    "    - 1.1. [Pre-processing 'address' column](#address)\n",
    "    - 1.2. [Openning the data](#data)\n",
    "    - 1.3. [Checking missing values](#null)\n",
    "    - 1.4. [Conclusion](#start-conc)\n",
    "    \n",
    "2. [Data analysis](#analysis)\n",
    "    - 2.1. [Proportions of the various types of establishments](#establishment1)\n",
    "    - 2.2. [Proportions of chain and nonchain establishments](#establishment2)\n",
    "    - 2.3. [Type of establishment as a typical chain](#establishment3)\n",
    "    - 2.4. [Characteristics of chains: many establishments with a small number of seats or a few establishments with a lot of seats](#establishment4)\n",
    "    - 2.5. [Average number of seats for each type of restaurant: on average, which type of restaurant has the greatest number of seats](#establishment5)\n",
    "    - 2.6. [Data on street names from the address column in a separate column](#streets1)\n",
    "    - 2.7. [Top ten streets by number of restaurants](#streets2)\n",
    "    - 2.8. [Number of streets that only have one restaurant](#streets3)\n",
    "    - 2.9. [Trends for streets with a lot of restaurants and the distribution of the number of seats](#streets4)\n",
    "    - 2.10 [Conclusion](#analysis-conc)\n",
    "3. [Preparing a presentation](#presentation)\n",
    "    - [Link](#presentation-conc)\n",
    "4. [General conclusion](#conclusion)"
   ]
  },
  {
   "cell_type": "markdown",
   "metadata": {},
   "source": [
    "## Step 1. Openning data & pre-processing <a class=\"anchor\" id=\"start\"></a>\n"
   ]
  },
  {
   "cell_type": "code",
   "execution_count": 1,
   "metadata": {},
   "outputs": [],
   "source": [
    "import pandas as pd\n",
    "import scipy.stats as stats\n",
    "import datetime as dt\n",
    "import numpy as np\n",
    "import math as mt\n",
    "from math import factorial\n",
    "from scipy.stats import norm\n",
    "import matplotlib\n",
    "import matplotlib.pyplot as plt\n",
    "from scipy import stats as st\n",
    "from collections import Counter\n",
    "import seaborn as sns\n",
    "import warnings\n",
    "from datetime import date, timedelta\n",
    "import datetime as dt\n",
    "from pandas.plotting import register_matplotlib_converters\n",
    "register_matplotlib_converters()\n",
    "import random\n",
    "import matplotlib.lines as mlines\n"
   ]
  },
  {
   "cell_type": "code",
   "execution_count": 2,
   "metadata": {},
   "outputs": [
    {
     "name": "stdout",
     "output_type": "stream",
     "text": [
      "Defaulting to user installation because normal site-packages is not writeable\n",
      "Requirement already satisfied: usaddress in /home/jovyan/.local/lib/python3.7/site-packages (0.5.10)\n",
      "Requirement already satisfied: future>=0.14 in /opt/conda/lib/python3.7/site-packages (from usaddress) (0.18.2)\n",
      "Requirement already satisfied: probableparsing in /home/jovyan/.local/lib/python3.7/site-packages (from usaddress) (0.0.1)\n",
      "Requirement already satisfied: python-crfsuite>=0.7 in /home/jovyan/.local/lib/python3.7/site-packages (from usaddress) (0.9.7)\n"
     ]
    }
   ],
   "source": [
    "!pip install usaddress"
   ]
  },
  {
   "cell_type": "code",
   "execution_count": 3,
   "metadata": {},
   "outputs": [],
   "source": [
    "#as we deal here with the US addresses, we'll have to import usaddress library\n",
    "import usaddress"
   ]
  },
  {
   "cell_type": "markdown",
   "metadata": {},
   "source": [
    "### 1.1 Openning the data<a class=\"anchor\" id=\"data\"></a>"
   ]
  },
  {
   "cell_type": "code",
   "execution_count": 4,
   "metadata": {},
   "outputs": [
    {
     "name": "stdout",
     "output_type": "stream",
     "text": [
      "<class 'pandas.core.frame.DataFrame'>\n",
      "RangeIndex: 9651 entries, 0 to 9650\n",
      "Data columns (total 6 columns):\n",
      "id             9651 non-null int64\n",
      "object_name    9651 non-null object\n",
      "address        9651 non-null object\n",
      "chain          9648 non-null object\n",
      "object_type    9651 non-null object\n",
      "number         9651 non-null int64\n",
      "dtypes: int64(2), object(4)\n",
      "memory usage: 452.5+ KB\n"
     ]
    },
    {
     "data": {
      "text/html": [
       "<div>\n",
       "<style scoped>\n",
       "    .dataframe tbody tr th:only-of-type {\n",
       "        vertical-align: middle;\n",
       "    }\n",
       "\n",
       "    .dataframe tbody tr th {\n",
       "        vertical-align: top;\n",
       "    }\n",
       "\n",
       "    .dataframe thead th {\n",
       "        text-align: right;\n",
       "    }\n",
       "</style>\n",
       "<table border=\"1\" class=\"dataframe\">\n",
       "  <thead>\n",
       "    <tr style=\"text-align: right;\">\n",
       "      <th></th>\n",
       "      <th>id</th>\n",
       "      <th>object_name</th>\n",
       "      <th>address</th>\n",
       "      <th>chain</th>\n",
       "      <th>object_type</th>\n",
       "      <th>number</th>\n",
       "    </tr>\n",
       "  </thead>\n",
       "  <tbody>\n",
       "    <tr>\n",
       "      <td>0</td>\n",
       "      <td>11786</td>\n",
       "      <td>HABITAT COFFEE SHOP</td>\n",
       "      <td>3708 N EAGLE ROCK BLVD</td>\n",
       "      <td>False</td>\n",
       "      <td>Cafe</td>\n",
       "      <td>26</td>\n",
       "    </tr>\n",
       "    <tr>\n",
       "      <td>1</td>\n",
       "      <td>11787</td>\n",
       "      <td>REILLY'S</td>\n",
       "      <td>100 WORLD WAY # 120</td>\n",
       "      <td>False</td>\n",
       "      <td>Restaurant</td>\n",
       "      <td>9</td>\n",
       "    </tr>\n",
       "    <tr>\n",
       "      <td>2</td>\n",
       "      <td>11788</td>\n",
       "      <td>STREET CHURROS</td>\n",
       "      <td>6801 HOLLYWOOD BLVD # 253</td>\n",
       "      <td>False</td>\n",
       "      <td>Fast Food</td>\n",
       "      <td>20</td>\n",
       "    </tr>\n",
       "    <tr>\n",
       "      <td>3</td>\n",
       "      <td>11789</td>\n",
       "      <td>TRINITI ECHO PARK</td>\n",
       "      <td>1814 W SUNSET BLVD</td>\n",
       "      <td>False</td>\n",
       "      <td>Restaurant</td>\n",
       "      <td>22</td>\n",
       "    </tr>\n",
       "    <tr>\n",
       "      <td>4</td>\n",
       "      <td>11790</td>\n",
       "      <td>POLLEN</td>\n",
       "      <td>2100 ECHO PARK AVE</td>\n",
       "      <td>False</td>\n",
       "      <td>Restaurant</td>\n",
       "      <td>20</td>\n",
       "    </tr>\n",
       "  </tbody>\n",
       "</table>\n",
       "</div>"
      ],
      "text/plain": [
       "      id          object_name                    address  chain object_type  \\\n",
       "0  11786  HABITAT COFFEE SHOP     3708 N EAGLE ROCK BLVD  False        Cafe   \n",
       "1  11787             REILLY'S        100 WORLD WAY # 120  False  Restaurant   \n",
       "2  11788       STREET CHURROS  6801 HOLLYWOOD BLVD # 253  False   Fast Food   \n",
       "3  11789    TRINITI ECHO PARK         1814 W SUNSET BLVD  False  Restaurant   \n",
       "4  11790               POLLEN         2100 ECHO PARK AVE  False  Restaurant   \n",
       "\n",
       "   number  \n",
       "0      26  \n",
       "1       9  \n",
       "2      20  \n",
       "3      22  \n",
       "4      20  "
      ]
     },
     "metadata": {},
     "output_type": "display_data"
    }
   ],
   "source": [
    "#Let’s read the data from the csv and check what we have there.\n",
    "#table from the csv file will be saved as rest_data_us:\n",
    "\n",
    "rest_data = pd.read_csv('/datasets/rest_data_us.csv', sep=',')\n",
    "rest_data.info()\n",
    "display(rest_data.head())"
   ]
  },
  {
   "cell_type": "markdown",
   "metadata": {},
   "source": [
    "### 1.2 Checking missing values<a class=\"anchor\" id=\"null\"></a>"
   ]
  },
  {
   "cell_type": "markdown",
   "metadata": {},
   "source": [
    "Let's make sure that the data type for each column is correct and that there are no missing values or duplicates."
   ]
  },
  {
   "cell_type": "code",
   "execution_count": 5,
   "metadata": {},
   "outputs": [
    {
     "data": {
      "text/html": [
       "<div>\n",
       "<style scoped>\n",
       "    .dataframe tbody tr th:only-of-type {\n",
       "        vertical-align: middle;\n",
       "    }\n",
       "\n",
       "    .dataframe tbody tr th {\n",
       "        vertical-align: top;\n",
       "    }\n",
       "\n",
       "    .dataframe thead th {\n",
       "        text-align: right;\n",
       "    }\n",
       "</style>\n",
       "<table border=\"1\" class=\"dataframe\">\n",
       "  <thead>\n",
       "    <tr style=\"text-align: right;\">\n",
       "      <th></th>\n",
       "      <th>id</th>\n",
       "      <th>object_name</th>\n",
       "      <th>address</th>\n",
       "      <th>chain</th>\n",
       "      <th>object_type</th>\n",
       "      <th>number</th>\n",
       "    </tr>\n",
       "  </thead>\n",
       "  <tbody>\n",
       "    <tr>\n",
       "      <td>7408</td>\n",
       "      <td>19194</td>\n",
       "      <td>TAQUERIA LOS 3 CARNALES</td>\n",
       "      <td>5000 E WHITTIER BLVD</td>\n",
       "      <td>NaN</td>\n",
       "      <td>Restaurant</td>\n",
       "      <td>14</td>\n",
       "    </tr>\n",
       "    <tr>\n",
       "      <td>7523</td>\n",
       "      <td>19309</td>\n",
       "      <td>JAMMIN JIMMY'S PIZZA</td>\n",
       "      <td>1641 FIRESTONE BLVD</td>\n",
       "      <td>NaN</td>\n",
       "      <td>Pizza</td>\n",
       "      <td>1</td>\n",
       "    </tr>\n",
       "    <tr>\n",
       "      <td>8648</td>\n",
       "      <td>20434</td>\n",
       "      <td>THE LEXINGTON THEATER</td>\n",
       "      <td>129 E 3RD ST</td>\n",
       "      <td>NaN</td>\n",
       "      <td>Restaurant</td>\n",
       "      <td>35</td>\n",
       "    </tr>\n",
       "  </tbody>\n",
       "</table>\n",
       "</div>"
      ],
      "text/plain": [
       "         id              object_name               address chain object_type  \\\n",
       "7408  19194  TAQUERIA LOS 3 CARNALES  5000 E WHITTIER BLVD   NaN  Restaurant   \n",
       "7523  19309     JAMMIN JIMMY'S PIZZA   1641 FIRESTONE BLVD   NaN       Pizza   \n",
       "8648  20434    THE LEXINGTON THEATER          129 E 3RD ST   NaN  Restaurant   \n",
       "\n",
       "      number  \n",
       "7408      14  \n",
       "7523       1  \n",
       "8648      35  "
      ]
     },
     "execution_count": 5,
     "metadata": {},
     "output_type": "execute_result"
    }
   ],
   "source": [
    "rest_data[rest_data.isnull().any(axis=1)] "
   ]
  },
  {
   "cell_type": "markdown",
   "metadata": {},
   "source": [
    "We have 3 missing values in the **chain** column for the following restaurants:\n",
    "- TAQUERIA LOS 3 CARNALES\n",
    "- JAMMIN JIMMY'S PIZZA\n",
    "- THE LEXINGTON THEATER\n",
    "\n",
    "Thus, let's replace name \"JAMMIN JIMMY'S PIZZA\" (id 19309) with \"JAMMIN JIMMYS PIZZA\" to avoid data analysis issues and as these restaurants are not shops instead of null fill 'False'."
   ]
  },
  {
   "cell_type": "code",
   "execution_count": 6,
   "metadata": {},
   "outputs": [
    {
     "data": {
      "text/html": [
       "<div>\n",
       "<style scoped>\n",
       "    .dataframe tbody tr th:only-of-type {\n",
       "        vertical-align: middle;\n",
       "    }\n",
       "\n",
       "    .dataframe tbody tr th {\n",
       "        vertical-align: top;\n",
       "    }\n",
       "\n",
       "    .dataframe thead th {\n",
       "        text-align: right;\n",
       "    }\n",
       "</style>\n",
       "<table border=\"1\" class=\"dataframe\">\n",
       "  <thead>\n",
       "    <tr style=\"text-align: right;\">\n",
       "      <th></th>\n",
       "      <th>id</th>\n",
       "      <th>object_name</th>\n",
       "      <th>address</th>\n",
       "      <th>chain</th>\n",
       "      <th>object_type</th>\n",
       "      <th>number</th>\n",
       "    </tr>\n",
       "  </thead>\n",
       "  <tbody>\n",
       "    <tr>\n",
       "      <td>7523</td>\n",
       "      <td>19309</td>\n",
       "      <td>JAMMIN JIMMYS PIZZA</td>\n",
       "      <td>1641 FIRESTONE BLVD</td>\n",
       "      <td>NaN</td>\n",
       "      <td>Pizza</td>\n",
       "      <td>1</td>\n",
       "    </tr>\n",
       "  </tbody>\n",
       "</table>\n",
       "</div>"
      ],
      "text/plain": [
       "         id          object_name              address chain object_type  \\\n",
       "7523  19309  JAMMIN JIMMYS PIZZA  1641 FIRESTONE BLVD   NaN       Pizza   \n",
       "\n",
       "      number  \n",
       "7523       1  "
      ]
     },
     "execution_count": 6,
     "metadata": {},
     "output_type": "execute_result"
    }
   ],
   "source": [
    "rest_data['object_name'].replace({\"JAMMIN JIMMY'S PIZZA\": \"JAMMIN JIMMYS PIZZA\"}, inplace=True)\n",
    "rest_data.query('id == 19309')"
   ]
  },
  {
   "cell_type": "code",
   "execution_count": 7,
   "metadata": {},
   "outputs": [
    {
     "data": {
      "text/html": [
       "<div>\n",
       "<style scoped>\n",
       "    .dataframe tbody tr th:only-of-type {\n",
       "        vertical-align: middle;\n",
       "    }\n",
       "\n",
       "    .dataframe tbody tr th {\n",
       "        vertical-align: top;\n",
       "    }\n",
       "\n",
       "    .dataframe thead th {\n",
       "        text-align: right;\n",
       "    }\n",
       "</style>\n",
       "<table border=\"1\" class=\"dataframe\">\n",
       "  <thead>\n",
       "    <tr style=\"text-align: right;\">\n",
       "      <th></th>\n",
       "      <th>id</th>\n",
       "      <th>object_name</th>\n",
       "      <th>address</th>\n",
       "      <th>chain</th>\n",
       "      <th>object_type</th>\n",
       "      <th>number</th>\n",
       "    </tr>\n",
       "  </thead>\n",
       "  <tbody>\n",
       "    <tr>\n",
       "      <td>7408</td>\n",
       "      <td>19194</td>\n",
       "      <td>TAQUERIA LOS 3 CARNALES</td>\n",
       "      <td>5000 E WHITTIER BLVD</td>\n",
       "      <td>False</td>\n",
       "      <td>Restaurant</td>\n",
       "      <td>14</td>\n",
       "    </tr>\n",
       "  </tbody>\n",
       "</table>\n",
       "</div>"
      ],
      "text/plain": [
       "         id              object_name               address  chain object_type  \\\n",
       "7408  19194  TAQUERIA LOS 3 CARNALES  5000 E WHITTIER BLVD  False  Restaurant   \n",
       "\n",
       "      number  \n",
       "7408      14  "
      ]
     },
     "execution_count": 7,
     "metadata": {},
     "output_type": "execute_result"
    }
   ],
   "source": [
    "rest_data['chain'].fillna(False, inplace = True) \n",
    "rest_data.query('id == 19194')"
   ]
  },
  {
   "cell_type": "markdown",
   "metadata": {},
   "source": [
    "### 1.3 pre-processing -  'address' column: <a class=\"anchor\" id=\"address\"></a>\n"
   ]
  },
  {
   "cell_type": "code",
   "execution_count": 8,
   "metadata": {},
   "outputs": [
    {
     "data": {
      "text/plain": [
       "'3708 N EAGLE ROCK BLVD'"
      ]
     },
     "execution_count": 8,
     "metadata": {},
     "output_type": "execute_result"
    }
   ],
   "source": [
    "#Let's create one small example street that we will test our library\n",
    "\n",
    "street_example=rest_data.iloc[0]['address']\n",
    "street_example"
   ]
  },
  {
   "cell_type": "code",
   "execution_count": 9,
   "metadata": {},
   "outputs": [
    {
     "data": {
      "text/plain": [
       "[('3708', 'AddressNumber'),\n",
       " ('N', 'StreetNamePreDirectional'),\n",
       " ('EAGLE', 'StreetName'),\n",
       " ('ROCK', 'StreetName'),\n",
       " ('BLVD', 'StreetNamePostType')]"
      ]
     },
     "execution_count": 9,
     "metadata": {},
     "output_type": "execute_result"
    }
   ],
   "source": [
    "#let's use .parse() method and pass to it any unstructed address\n",
    "#the library will split it into components\n",
    "\n",
    "usaddress.parse(street_example)"
   ]
  },
  {
   "cell_type": "code",
   "execution_count": 10,
   "metadata": {},
   "outputs": [
    {
     "data": {
      "text/plain": [
       "{'AddressNumber': '3708',\n",
       " 'StreetNamePreDirectional': 'N',\n",
       " 'StreetName': 'ROCK',\n",
       " 'StreetNamePostType': 'BLVD'}"
      ]
     },
     "execution_count": 10,
     "metadata": {},
     "output_type": "execute_result"
    }
   ],
   "source": [
    "#now it's a list of tuples with the component and it's name\n",
    "#for example, \"StreetName\"-\"Rock\" - and turn it into dictionary\n",
    "\n",
    "raw_address=usaddress.parse(street_example)\n",
    "\n",
    "#iterate over a list with components - for each component in raw_address save component's name\n",
    "#as key (i[1]) and component itself as value of the dictionary (i[0])\n",
    "\n",
    "dict_address={}\n",
    "for i in raw_address:\n",
    "    dict_address.update({i[1]:i[0]})\n",
    "\n",
    "dict_address"
   ]
  },
  {
   "cell_type": "code",
   "execution_count": 11,
   "metadata": {},
   "outputs": [
    {
     "data": {
      "text/plain": [
       "'N,ROCK,3708'"
      ]
     },
     "execution_count": 11,
     "metadata": {},
     "output_type": "execute_result"
    }
   ],
   "source": [
    "#now we have a dictionary with our component of the street and we can deconstruct the street\n",
    "#we want only street name and number\n",
    "\n",
    "dict_address['StreetNamePreDirectional']+','+dict_address['StreetName']+','+dict_address['AddressNumber']"
   ]
  },
  {
   "cell_type": "code",
   "execution_count": 12,
   "metadata": {},
   "outputs": [],
   "source": [
    "#let's wrap a function around it to apply to all our rows and \n",
    "#include a loop that will check the addresses \"without street or number\"\n",
    "#since in some of the dictionaries there is no AddressNumber \n",
    "\n",
    "def cleaning_check(raw):\n",
    "    raw_address=usaddress.parse(raw)\n",
    "    dict_address={}\n",
    "    for i in raw_address:\n",
    "        dict_address.update({i[1]:i[0]})\n",
    "    #this line below checks for normal case with street and number    \n",
    "    if 'StreetName' in dict_address.keys() and 'AddressNumber' in dict_address.keys():\n",
    "        clean_address=dict_address['AddressNumber']+\",\"+str(dict_address['StreetName'])\n",
    "        return clean_address\n",
    "    else:\n",
    "        return 'no street or number'"
   ]
  },
  {
   "cell_type": "code",
   "execution_count": 13,
   "metadata": {},
   "outputs": [
    {
     "data": {
      "text/plain": [
       "3327        10924,PICO\n",
       "790     6554,HOLLYWOOD\n",
       "7394     3939,FIGUEROA\n",
       "3771       7950,SUNSET\n",
       "1995          750,HILL\n",
       "1374       8171,SUNSET\n",
       "8508       141,WESTERN\n",
       "6057          3425,1ST\n",
       "3626       940,BROXTON\n",
       "6228     6100,FIGUEROA\n",
       "8124       934,ANGELES\n",
       "1116        10616,PICO\n",
       "2978         1123,VINE\n",
       "3792      4300,OLYMPIC\n",
       "7581        10800,PICO\n",
       "Name: address, dtype: object"
      ]
     },
     "execution_count": 13,
     "metadata": {},
     "output_type": "execute_result"
    }
   ],
   "source": [
    "#let's apply it to random rows and see how it works\n",
    "\n",
    "rest_data.address.sample(15).apply(cleaning_check)"
   ]
  },
  {
   "cell_type": "code",
   "execution_count": 14,
   "metadata": {},
   "outputs": [],
   "source": [
    "#now let's apply it to all data set\n",
    "\n",
    "rest_data['clean_street_check']=rest_data.address.apply(cleaning_check)\n"
   ]
  },
  {
   "cell_type": "code",
   "execution_count": 15,
   "metadata": {},
   "outputs": [
    {
     "data": {
      "text/html": [
       "<div>\n",
       "<style scoped>\n",
       "    .dataframe tbody tr th:only-of-type {\n",
       "        vertical-align: middle;\n",
       "    }\n",
       "\n",
       "    .dataframe tbody tr th {\n",
       "        vertical-align: top;\n",
       "    }\n",
       "\n",
       "    .dataframe thead th {\n",
       "        text-align: right;\n",
       "    }\n",
       "</style>\n",
       "<table border=\"1\" class=\"dataframe\">\n",
       "  <thead>\n",
       "    <tr style=\"text-align: right;\">\n",
       "      <th></th>\n",
       "      <th>id</th>\n",
       "      <th>object_name</th>\n",
       "      <th>address</th>\n",
       "      <th>chain</th>\n",
       "      <th>object_type</th>\n",
       "      <th>number</th>\n",
       "      <th>clean_street_check</th>\n",
       "    </tr>\n",
       "  </thead>\n",
       "  <tbody>\n",
       "    <tr>\n",
       "      <td>1888</td>\n",
       "      <td>13674</td>\n",
       "      <td>MAGDALENO DEBBIE</td>\n",
       "      <td>OLVERA ST E17</td>\n",
       "      <td>False</td>\n",
       "      <td>Restaurant</td>\n",
       "      <td>15</td>\n",
       "      <td>no street or number</td>\n",
       "    </tr>\n",
       "    <tr>\n",
       "      <td>3719</td>\n",
       "      <td>15505</td>\n",
       "      <td>LAS ANITAS</td>\n",
       "      <td>OLVERA ST 26</td>\n",
       "      <td>False</td>\n",
       "      <td>Restaurant</td>\n",
       "      <td>38</td>\n",
       "      <td>no street or number</td>\n",
       "    </tr>\n",
       "    <tr>\n",
       "      <td>7003</td>\n",
       "      <td>18789</td>\n",
       "      <td>D.K. DONUTS</td>\n",
       "      <td>1033 1/2 LOS ANGELES ST</td>\n",
       "      <td>False</td>\n",
       "      <td>Fast Food</td>\n",
       "      <td>8</td>\n",
       "      <td>no street or number</td>\n",
       "    </tr>\n",
       "    <tr>\n",
       "      <td>7281</td>\n",
       "      <td>19067</td>\n",
       "      <td>CIELITO LINDO</td>\n",
       "      <td>OLVERA ST 23</td>\n",
       "      <td>False</td>\n",
       "      <td>Restaurant</td>\n",
       "      <td>2</td>\n",
       "      <td>no street or number</td>\n",
       "    </tr>\n",
       "    <tr>\n",
       "      <td>7319</td>\n",
       "      <td>19105</td>\n",
       "      <td>JUANITA'S CAFE</td>\n",
       "      <td>OLVERA ST 20</td>\n",
       "      <td>False</td>\n",
       "      <td>Restaurant</td>\n",
       "      <td>12</td>\n",
       "      <td>no street or number</td>\n",
       "    </tr>\n",
       "    <tr>\n",
       "      <td>7321</td>\n",
       "      <td>19107</td>\n",
       "      <td>KITTY'S SNOW CONES</td>\n",
       "      <td>OLVERA ST 2</td>\n",
       "      <td>False</td>\n",
       "      <td>Restaurant</td>\n",
       "      <td>11</td>\n",
       "      <td>no street or number</td>\n",
       "    </tr>\n",
       "    <tr>\n",
       "      <td>7327</td>\n",
       "      <td>19113</td>\n",
       "      <td>LA NOCHE BUENA</td>\n",
       "      <td>OLVERA ST E8</td>\n",
       "      <td>False</td>\n",
       "      <td>Restaurant</td>\n",
       "      <td>1</td>\n",
       "      <td>no street or number</td>\n",
       "    </tr>\n",
       "    <tr>\n",
       "      <td>7438</td>\n",
       "      <td>19224</td>\n",
       "      <td>LA GOLONDRINA</td>\n",
       "      <td>OLVERA ST W17</td>\n",
       "      <td>False</td>\n",
       "      <td>Restaurant</td>\n",
       "      <td>204</td>\n",
       "      <td>no street or number</td>\n",
       "    </tr>\n",
       "    <tr>\n",
       "      <td>7741</td>\n",
       "      <td>19527</td>\n",
       "      <td>RODOLFO'S RESTAURANT</td>\n",
       "      <td>OLVERA ST 5</td>\n",
       "      <td>True</td>\n",
       "      <td>Restaurant</td>\n",
       "      <td>4</td>\n",
       "      <td>no street or number</td>\n",
       "    </tr>\n",
       "  </tbody>\n",
       "</table>\n",
       "</div>"
      ],
      "text/plain": [
       "         id           object_name                  address  chain object_type  \\\n",
       "1888  13674      MAGDALENO DEBBIE            OLVERA ST E17  False  Restaurant   \n",
       "3719  15505            LAS ANITAS             OLVERA ST 26  False  Restaurant   \n",
       "7003  18789           D.K. DONUTS  1033 1/2 LOS ANGELES ST  False   Fast Food   \n",
       "7281  19067         CIELITO LINDO             OLVERA ST 23  False  Restaurant   \n",
       "7319  19105        JUANITA'S CAFE             OLVERA ST 20  False  Restaurant   \n",
       "7321  19107    KITTY'S SNOW CONES              OLVERA ST 2  False  Restaurant   \n",
       "7327  19113        LA NOCHE BUENA             OLVERA ST E8  False  Restaurant   \n",
       "7438  19224         LA GOLONDRINA            OLVERA ST W17  False  Restaurant   \n",
       "7741  19527  RODOLFO'S RESTAURANT              OLVERA ST 5   True  Restaurant   \n",
       "\n",
       "      number   clean_street_check  \n",
       "1888      15  no street or number  \n",
       "3719      38  no street or number  \n",
       "7003       8  no street or number  \n",
       "7281       2  no street or number  \n",
       "7319      12  no street or number  \n",
       "7321      11  no street or number  \n",
       "7327       1  no street or number  \n",
       "7438     204  no street or number  \n",
       "7741       4  no street or number  "
      ]
     },
     "execution_count": 15,
     "metadata": {},
     "output_type": "execute_result"
    }
   ],
   "source": [
    "#let's check what streets has no number\n",
    "\n",
    "rest_data[rest_data['clean_street_check']=='no street or number']"
   ]
  },
  {
   "cell_type": "code",
   "execution_count": 16,
   "metadata": {},
   "outputs": [
    {
     "data": {
      "text/plain": [
       "[('OLVERA', 'PlaceName'), ('ST', 'StateName'), ('E17', 'ZipCode')]"
      ]
     },
     "execution_count": 16,
     "metadata": {},
     "output_type": "execute_result"
    }
   ],
   "source": [
    "#there are 2 streets: 1) Olvera and 2) 1033 1/2 LOS ANGELES ST\n",
    "#let's see how library handles them\n",
    "usaddress.parse(rest_data.iloc[1888]['address'])"
   ]
  },
  {
   "cell_type": "code",
   "execution_count": 17,
   "metadata": {},
   "outputs": [
    {
     "data": {
      "text/html": [
       "<div>\n",
       "<style scoped>\n",
       "    .dataframe tbody tr th:only-of-type {\n",
       "        vertical-align: middle;\n",
       "    }\n",
       "\n",
       "    .dataframe tbody tr th {\n",
       "        vertical-align: top;\n",
       "    }\n",
       "\n",
       "    .dataframe thead th {\n",
       "        text-align: right;\n",
       "    }\n",
       "</style>\n",
       "<table border=\"1\" class=\"dataframe\">\n",
       "  <thead>\n",
       "    <tr style=\"text-align: right;\">\n",
       "      <th></th>\n",
       "      <th>id</th>\n",
       "      <th>object_name</th>\n",
       "      <th>address</th>\n",
       "      <th>chain</th>\n",
       "      <th>object_type</th>\n",
       "      <th>number</th>\n",
       "      <th>clean_street_check</th>\n",
       "      <th>clean_street_final</th>\n",
       "    </tr>\n",
       "  </thead>\n",
       "  <tbody>\n",
       "    <tr>\n",
       "      <td>9461</td>\n",
       "      <td>21247</td>\n",
       "      <td>CHINA CITY</td>\n",
       "      <td>4578 WHITTIER BLVD</td>\n",
       "      <td>False</td>\n",
       "      <td>Restaurant</td>\n",
       "      <td>31</td>\n",
       "      <td>4578,WHITTIER</td>\n",
       "      <td>4578 WHITTIER, Los Angeles,USA</td>\n",
       "    </tr>\n",
       "    <tr>\n",
       "      <td>9638</td>\n",
       "      <td>21424</td>\n",
       "      <td>WATTS BURGERS</td>\n",
       "      <td>10203 S CENTRAL AVE</td>\n",
       "      <td>False</td>\n",
       "      <td>Fast Food</td>\n",
       "      <td>15</td>\n",
       "      <td>10203,CENTRAL</td>\n",
       "      <td>10203 CENTRAL, Los Angeles,USA</td>\n",
       "    </tr>\n",
       "    <tr>\n",
       "      <td>3007</td>\n",
       "      <td>14793</td>\n",
       "      <td>CHIPOTLE MEXICAN GRILL</td>\n",
       "      <td>301 N LARCHMONT BLVD</td>\n",
       "      <td>True</td>\n",
       "      <td>Restaurant</td>\n",
       "      <td>72</td>\n",
       "      <td>301,LARCHMONT</td>\n",
       "      <td>301 LARCHMONT, Los Angeles,USA</td>\n",
       "    </tr>\n",
       "    <tr>\n",
       "      <td>4423</td>\n",
       "      <td>16209</td>\n",
       "      <td>YOSHINOYA #1254</td>\n",
       "      <td>5656 W MANCHESTER AVE</td>\n",
       "      <td>True</td>\n",
       "      <td>Restaurant</td>\n",
       "      <td>5</td>\n",
       "      <td>5656,MANCHESTER</td>\n",
       "      <td>5656 MANCHESTER, Los Angeles,USA</td>\n",
       "    </tr>\n",
       "    <tr>\n",
       "      <td>3947</td>\n",
       "      <td>15733</td>\n",
       "      <td>USC - ANNENBERG CAFE</td>\n",
       "      <td>3630 S WATT WAY</td>\n",
       "      <td>False</td>\n",
       "      <td>Restaurant</td>\n",
       "      <td>28</td>\n",
       "      <td>3630,WATT</td>\n",
       "      <td>3630 WATT, Los Angeles,USA</td>\n",
       "    </tr>\n",
       "    <tr>\n",
       "      <td>5574</td>\n",
       "      <td>17360</td>\n",
       "      <td>MASTER CHEF</td>\n",
       "      <td>937 N HILL ST</td>\n",
       "      <td>False</td>\n",
       "      <td>Restaurant</td>\n",
       "      <td>107</td>\n",
       "      <td>937,HILL</td>\n",
       "      <td>937 HILL, Los Angeles,USA</td>\n",
       "    </tr>\n",
       "    <tr>\n",
       "      <td>2897</td>\n",
       "      <td>14683</td>\n",
       "      <td>EL CHARRO RESTAURANT</td>\n",
       "      <td>1621 W 6TH ST</td>\n",
       "      <td>True</td>\n",
       "      <td>Restaurant</td>\n",
       "      <td>21</td>\n",
       "      <td>1621,6TH</td>\n",
       "      <td>1621 6TH, Los Angeles,USA</td>\n",
       "    </tr>\n",
       "    <tr>\n",
       "      <td>8827</td>\n",
       "      <td>20613</td>\n",
       "      <td>BOTANAS EL ATORON</td>\n",
       "      <td>4433 S ALAMEDA ST # B5</td>\n",
       "      <td>True</td>\n",
       "      <td>Restaurant</td>\n",
       "      <td>4</td>\n",
       "      <td>4433,ALAMEDA</td>\n",
       "      <td>4433 ALAMEDA, Los Angeles,USA</td>\n",
       "    </tr>\n",
       "    <tr>\n",
       "      <td>3303</td>\n",
       "      <td>15089</td>\n",
       "      <td>STARBUCKS COFFEE #13286</td>\n",
       "      <td>4430 E YORK BLVD #A</td>\n",
       "      <td>True</td>\n",
       "      <td>Cafe</td>\n",
       "      <td>39</td>\n",
       "      <td>4430,YORK</td>\n",
       "      <td>4430 YORK, Los Angeles,USA</td>\n",
       "    </tr>\n",
       "    <tr>\n",
       "      <td>4390</td>\n",
       "      <td>16176</td>\n",
       "      <td>MI CASITA</td>\n",
       "      <td>418 E VERNON AVE</td>\n",
       "      <td>False</td>\n",
       "      <td>Restaurant</td>\n",
       "      <td>26</td>\n",
       "      <td>418,VERNON</td>\n",
       "      <td>418 VERNON, Los Angeles,USA</td>\n",
       "    </tr>\n",
       "  </tbody>\n",
       "</table>\n",
       "</div>"
      ],
      "text/plain": [
       "         id              object_name                 address  chain  \\\n",
       "9461  21247               CHINA CITY      4578 WHITTIER BLVD  False   \n",
       "9638  21424            WATTS BURGERS     10203 S CENTRAL AVE  False   \n",
       "3007  14793   CHIPOTLE MEXICAN GRILL    301 N LARCHMONT BLVD   True   \n",
       "4423  16209          YOSHINOYA #1254   5656 W MANCHESTER AVE   True   \n",
       "3947  15733     USC - ANNENBERG CAFE         3630 S WATT WAY  False   \n",
       "5574  17360              MASTER CHEF           937 N HILL ST  False   \n",
       "2897  14683     EL CHARRO RESTAURANT           1621 W 6TH ST   True   \n",
       "8827  20613        BOTANAS EL ATORON  4433 S ALAMEDA ST # B5   True   \n",
       "3303  15089  STARBUCKS COFFEE #13286     4430 E YORK BLVD #A   True   \n",
       "4390  16176                MI CASITA        418 E VERNON AVE  False   \n",
       "\n",
       "     object_type  number clean_street_check                clean_street_final  \n",
       "9461  Restaurant      31      4578,WHITTIER    4578 WHITTIER, Los Angeles,USA  \n",
       "9638   Fast Food      15      10203,CENTRAL    10203 CENTRAL, Los Angeles,USA  \n",
       "3007  Restaurant      72      301,LARCHMONT    301 LARCHMONT, Los Angeles,USA  \n",
       "4423  Restaurant       5    5656,MANCHESTER  5656 MANCHESTER, Los Angeles,USA  \n",
       "3947  Restaurant      28          3630,WATT        3630 WATT, Los Angeles,USA  \n",
       "5574  Restaurant     107           937,HILL         937 HILL, Los Angeles,USA  \n",
       "2897  Restaurant      21           1621,6TH         1621 6TH, Los Angeles,USA  \n",
       "8827  Restaurant       4       4433,ALAMEDA     4433 ALAMEDA, Los Angeles,USA  \n",
       "3303        Cafe      39          4430,YORK        4430 YORK, Los Angeles,USA  \n",
       "4390  Restaurant      26         418,VERNON       418 VERNON, Los Angeles,USA  "
      ]
     },
     "execution_count": 17,
     "metadata": {},
     "output_type": "execute_result"
    }
   ],
   "source": [
    "#the library treats Olvera as PlaceName, not street\n",
    "#so let's update our function\n",
    "\n",
    "def cleaning_final(raw):\n",
    "    if raw.startswith('OLVERA'):\n",
    "        clean_address='OLVERA,Los Angeles,USA'\n",
    "    elif raw.startswith('1033 1/2 LOS ANGELES'):\n",
    "        clean_address='1033 1/2 LOS ANGELES ST,Los Angeles,USA'\n",
    "    else:\n",
    "        raw_address=usaddress.parse(raw)\n",
    "        dict_address={}\n",
    "        for i in raw_address:\n",
    "            dict_address.update({i[1]:i[0]})\n",
    "        clean_address=dict_address['AddressNumber']+\" \"+str(\n",
    "            dict_address['StreetName'])+str(', Los Angeles,USA')\n",
    "    return clean_address\n",
    "\n",
    "rest_data['clean_street_final']=rest_data.address.apply(cleaning_final)\n",
    "rest_data.sample(10)"
   ]
  },
  {
   "cell_type": "markdown",
   "metadata": {},
   "source": [
    "### 1.2 Conclusion <a class=\"anchor\" id=\"start-conc\"></a>\n",
    "\n",
    "In the present research we are working with a data set from the open-source data on restaurants in LA. It was saved as a table: **rest_data**. Its total length is 9651 rows, every row represents one restaurant and its characteristics in columns: object_name — establishment (restaurant's) name; chain — chain establishment (TRUE/FALSE); object_type — establishment type; address — address; number — number of seats.\n",
    "\n",
    "While checking duplicated values we didn't find anything suspicious at this stage.\n",
    "While checking missing values we found 3 missing values in the **chain** column for the following restaurants: TAQUERIA LOS 3 CARNALES, JAMMIN JIMMY'S PIZZA, THE LEXINGTON THEATER.\n",
    "Then we replaced name \"JAMMIN JIMMY'S PIZZA\" (id 19309) with \"JAMMIN JIMMYS PIZZA\" to avoid data analysis issues. As these restaurants names were unique, we supposed that they were not chains, thus, null values were replaced by 'False'.\n",
    "\n",
    "Then we checked **address** column. To work properly with the US addresses, first, we imported usaddress library and then created a function that deconstructed the street so we got street name and number in order to get the clean address saved in the didcated column clean_street_final."
   ]
  },
  {
   "cell_type": "markdown",
   "metadata": {},
   "source": [
    "## Step 2. Data analysis <a class=\"anchor\" id=\"analysis\"></a>\n"
   ]
  },
  {
   "cell_type": "markdown",
   "metadata": {},
   "source": [
    "### 2.1 Proportions of the various types of establishments (graph)  <a class=\"anchor\" id=\"establishment1\"></a>"
   ]
  },
  {
   "cell_type": "code",
   "execution_count": 18,
   "metadata": {},
   "outputs": [
    {
     "data": {
      "text/html": [
       "<div>\n",
       "<style scoped>\n",
       "    .dataframe tbody tr th:only-of-type {\n",
       "        vertical-align: middle;\n",
       "    }\n",
       "\n",
       "    .dataframe tbody tr th {\n",
       "        vertical-align: top;\n",
       "    }\n",
       "\n",
       "    .dataframe thead th {\n",
       "        text-align: right;\n",
       "    }\n",
       "</style>\n",
       "<table border=\"1\" class=\"dataframe\">\n",
       "  <thead>\n",
       "    <tr style=\"text-align: right;\">\n",
       "      <th></th>\n",
       "      <th>type</th>\n",
       "      <th>rest_count</th>\n",
       "      <th>rest_part</th>\n",
       "    </tr>\n",
       "  </thead>\n",
       "  <tbody>\n",
       "    <tr>\n",
       "      <td>0</td>\n",
       "      <td>Bakery</td>\n",
       "      <td>283</td>\n",
       "      <td>3.0</td>\n",
       "    </tr>\n",
       "    <tr>\n",
       "      <td>1</td>\n",
       "      <td>Bar</td>\n",
       "      <td>292</td>\n",
       "      <td>3.0</td>\n",
       "    </tr>\n",
       "    <tr>\n",
       "      <td>4</td>\n",
       "      <td>Pizza</td>\n",
       "      <td>320</td>\n",
       "      <td>3.0</td>\n",
       "    </tr>\n",
       "    <tr>\n",
       "      <td>2</td>\n",
       "      <td>Cafe</td>\n",
       "      <td>435</td>\n",
       "      <td>5.0</td>\n",
       "    </tr>\n",
       "    <tr>\n",
       "      <td>3</td>\n",
       "      <td>Fast Food</td>\n",
       "      <td>1066</td>\n",
       "      <td>11.0</td>\n",
       "    </tr>\n",
       "    <tr>\n",
       "      <td>5</td>\n",
       "      <td>Restaurant</td>\n",
       "      <td>7255</td>\n",
       "      <td>75.0</td>\n",
       "    </tr>\n",
       "  </tbody>\n",
       "</table>\n",
       "</div>"
      ],
      "text/plain": [
       "         type  rest_count  rest_part\n",
       "0      Bakery         283        3.0\n",
       "1         Bar         292        3.0\n",
       "4       Pizza         320        3.0\n",
       "2        Cafe         435        5.0\n",
       "3   Fast Food        1066       11.0\n",
       "5  Restaurant        7255       75.0"
      ]
     },
     "execution_count": 18,
     "metadata": {},
     "output_type": "execute_result"
    }
   ],
   "source": [
    "rest = rest_data.groupby('object_type').agg({'id':'nunique'}).reset_index()\n",
    "rest.columns = ['type','rest_count']\n",
    "rest['rest_part'] = round(\n",
    "    100 * rest['rest_count'] / rest.rest_count.sum())\n",
    "rest.sort_values('rest_part', axis=0, ascending=True)\n"
   ]
  },
  {
   "cell_type": "code",
   "execution_count": 19,
   "metadata": {},
   "outputs": [
    {
     "data": {
      "image/png": "[encoded data removed]",
      "text/plain": [
       "<Figure size 504x504 with 1 Axes>"
      ]
     },
     "metadata": {},
     "output_type": "display_data"
    }
   ],
   "source": [
    "pal = [\"royalblue\", \"dodgerblue\", \"lightskyblue\", \"lightblue\", \"#33faff\", \"#10c0c4\"]\n",
    "\n",
    "labels = rest.type\n",
    "sizes = rest.rest_part\n",
    "explode = (0,0,0,0,0,0.05)  \n",
    "\n",
    "fig1, ax1 = plt.subplots(figsize=(7,7))\n",
    "ax1.pie(sizes, explode=explode, labels=labels, autopct='%0.0f%%',\n",
    "        shadow=True, startangle=90, colors=pal)\n",
    "ax1.axis('equal')  \n",
    "\n",
    "plt.title(\n",
    "    'Type of establishment partition', fontdict={'size':15}\n",
    ").set_position([.5, 1.05])\n",
    "\n",
    "plt.show()"
   ]
  },
  {
   "cell_type": "code",
   "execution_count": 20,
   "metadata": {},
   "outputs": [
    {
     "data": {
      "image/png": "[encoded data removed]",
      "text/plain": [
       "<Figure size 1080x216 with 1 Axes>"
      ]
     },
     "metadata": {
      "needs_background": "light"
     },
     "output_type": "display_data"
    }
   ],
   "source": [
    "# let's plot chart for absolute retaurant type partition \n",
    "fig,ax=plt.subplots(figsize=(15,3))\n",
    "plt.grid()\n",
    "ax.vlines(x=rest.type, ymin=0,\n",
    "          ymax=rest.rest_part, color='blue', alpha=0.7,linewidth=5)\n",
    "ax.set_title('Retaurant type partition ', fontdict={'size':16})\n",
    "ax.set_ylabel('Percentage', fontdict={'size':16})\n",
    "ax.set_xticks(rest.type)\n",
    "ax.set_xticklabels(rest.type, rotation=30, fontdict={'size':16})\n",
    "\n",
    "ax.scatter(x=rest.type, y=rest.rest_part, s=75, color='#f573df', alpha=0.7)\n",
    "\n",
    "for row in rest.itertuples():\n",
    "    ax.text(row.type, row.rest_part, s=round(row.rest_part), fontdict={'size':16})\n"
   ]
  },
  {
   "cell_type": "markdown",
   "metadata": {},
   "source": [
    "We can see that 75% of all establishments are restaurants, pizza, bar and bakeries represent 3% each, 5% of café’s and 11% of fast food."
   ]
  },
  {
   "cell_type": "markdown",
   "metadata": {},
   "source": [
    "### 2.2 Proportions of chain and nonchain establishments (graph)<a class=\"anchor\" id=\"establishment2\"></a>"
   ]
  },
  {
   "cell_type": "code",
   "execution_count": 21,
   "metadata": {},
   "outputs": [],
   "source": [
    "rest_type = rest_data.groupby(['object_type','chain']).agg({'id':'nunique'}).reset_index()\n",
    "rest_type.columns = ['type','chain','rest_count']\n",
    "rest_type['rest_part'] = round(\n",
    "    100 * rest_type['rest_count'] / rest_type.rest_count.sum())\n",
    "\n",
    "#let's change chain column from True False to Chain Not-chain values\n",
    "\n",
    "rest_type['chain'] = rest_type['chain'].astype(str).replace({'True':'Chain', 'False':'Not-chain'})\n",
    "#rest_type"
   ]
  },
  {
   "cell_type": "code",
   "execution_count": 22,
   "metadata": {},
   "outputs": [],
   "source": [
    "rest_type[\"type_chain\"] = rest_type['type'] +\" \"+ rest_type['chain'].astype(str)\n"
   ]
  },
  {
   "cell_type": "code",
   "execution_count": 23,
   "metadata": {},
   "outputs": [
    {
     "data": {
      "image/png": "[encoded data removed]",
      "text/plain": [
       "<Figure size 1080x216 with 1 Axes>"
      ]
     },
     "metadata": {
      "needs_background": "light"
     },
     "output_type": "display_data"
    }
   ],
   "source": [
    "# let's plot chart for absolute retaurant type partition \n",
    "fig,ax=plt.subplots(figsize=(15,3))\n",
    "plt.grid()\n",
    "ax.vlines(x=rest_type.type_chain, ymin=0,\n",
    "          ymax=rest_type.rest_part, color='blue', alpha=0.7,linewidth=2)\n",
    "ax.set_title('Absolute retaurant type-chain partition ', fontdict={'size':16})\n",
    "ax.set_ylabel('Absolute Percentage', fontdict={'size':16})\n",
    "ax.set_xticks(rest_type.type_chain)\n",
    "ax.set_xticklabels(rest_type.type_chain, rotation=30, fontdict={'size':14})\n",
    "\n",
    "ax.scatter(x=rest_type.type_chain, y=rest_type.rest_part, s=75, color='#10c4c0', alpha=0.7)\n",
    "\n",
    "for row in rest_type.itertuples():\n",
    "    ax.text(row.type_chain, row.rest_part, s=round(row.rest_part), fontdict={'size':14})\n"
   ]
  },
  {
   "cell_type": "code",
   "execution_count": 24,
   "metadata": {},
   "outputs": [
    {
     "name": "stdout",
     "output_type": "stream",
     "text": [
      "<class 'pandas.core.frame.DataFrame'>\n",
      "Index: 2 entries, False to True\n",
      "Data columns (total 6 columns):\n",
      "Bakery        1 non-null float64\n",
      "Bar           2 non-null float64\n",
      "Cafe          2 non-null float64\n",
      "Fast Food     2 non-null float64\n",
      "Pizza         2 non-null float64\n",
      "Restaurant    2 non-null float64\n",
      "dtypes: float64(6)\n",
      "memory usage: 112.0+ bytes\n"
     ]
    }
   ],
   "source": [
    "#let's build a pivot table ti see the graph inside each category - chain vs not chain\n",
    "pv_rest_type = rest_data.pivot_table(\n",
    "    index='object_type', columns='chain', values='id', aggfunc='count')\n",
    "rest_type_t=pv_rest_type.T\n",
    "rest_type_t.info()"
   ]
  },
  {
   "cell_type": "code",
   "execution_count": 25,
   "metadata": {
    "scrolled": true
   },
   "outputs": [
    {
     "data": {
      "text/html": [
       "<div>\n",
       "<style scoped>\n",
       "    .dataframe tbody tr th:only-of-type {\n",
       "        vertical-align: middle;\n",
       "    }\n",
       "\n",
       "    .dataframe tbody tr th {\n",
       "        vertical-align: top;\n",
       "    }\n",
       "\n",
       "    .dataframe thead th {\n",
       "        text-align: right;\n",
       "    }\n",
       "</style>\n",
       "<table border=\"1\" class=\"dataframe\">\n",
       "  <thead>\n",
       "    <tr style=\"text-align: right;\">\n",
       "      <th>object_type</th>\n",
       "      <th>Bakery</th>\n",
       "      <th>Bar</th>\n",
       "      <th>Cafe</th>\n",
       "      <th>Fast Food</th>\n",
       "      <th>Pizza</th>\n",
       "      <th>Restaurant</th>\n",
       "    </tr>\n",
       "    <tr>\n",
       "      <th>chain</th>\n",
       "      <th></th>\n",
       "      <th></th>\n",
       "      <th></th>\n",
       "      <th></th>\n",
       "      <th></th>\n",
       "      <th></th>\n",
       "    </tr>\n",
       "  </thead>\n",
       "  <tbody>\n",
       "    <tr>\n",
       "      <td>False</td>\n",
       "      <td>NaN</td>\n",
       "      <td>3.598326</td>\n",
       "      <td>2.828452</td>\n",
       "      <td>7.715481</td>\n",
       "      <td>2.794979</td>\n",
       "      <td>83.062762</td>\n",
       "    </tr>\n",
       "    <tr>\n",
       "      <td>True</td>\n",
       "      <td>7.698585</td>\n",
       "      <td>2.094668</td>\n",
       "      <td>7.236126</td>\n",
       "      <td>16.458107</td>\n",
       "      <td>4.162133</td>\n",
       "      <td>62.350381</td>\n",
       "    </tr>\n",
       "  </tbody>\n",
       "</table>\n",
       "</div>"
      ],
      "text/plain": [
       "object_type    Bakery       Bar      Cafe  Fast Food     Pizza  Restaurant\n",
       "chain                                                                     \n",
       "False             NaN  3.598326  2.828452   7.715481  2.794979   83.062762\n",
       "True         7.698585  2.094668  7.236126  16.458107  4.162133   62.350381"
      ]
     },
     "metadata": {},
     "output_type": "display_data"
    },
    {
     "data": {
      "image/png": "[encoded data removed]",
      "text/plain": [
       "<Figure size 1080x504 with 1 Axes>"
      ]
     },
     "metadata": {
      "needs_background": "light"
     },
     "output_type": "display_data"
    }
   ],
   "source": [
    "pal = [\"royalblue\", \"dodgerblue\", \"lightskyblue\", \"lightblue\", \"#33faff\", \"#10c0c4\"]\n",
    "\n",
    "ax=rest_type_t.apply(lambda r: r/r.sum()*100, axis=1)\n",
    "ax_1 = ax.plot.bar(figsize=(15,7),stacked=True, rot=0, color=pal)\n",
    "display(ax)\n",
    "\n",
    "plt.legend(loc='upper center', bbox_to_anchor=(0.06, 0.9), title=\"Type\")\n",
    "\n",
    "plt.xlabel('Chain')\n",
    "plt.ylabel('Percent Distribution')\n",
    "\n",
    "for rec in ax_1.patches:\n",
    "    height = rec.get_height()\n",
    "    ax_1.text(rec.get_x() + rec.get_width() / 2, \n",
    "              rec.get_y() + height / 2,\n",
    "              \"{:.0f}%\".format(height),\n",
    "              color='darkblue',\n",
    "              fontsize=12,\n",
    "              ha='center', \n",
    "              va='bottom')\n",
    "plt.title('Proportions of the various types of establishments')\n",
    "plt.grid(axis='y')\n",
    "plt.show()"
   ]
  },
  {
   "cell_type": "markdown",
   "metadata": {},
   "source": [
    "We can see that the major players among non-chain are restaurants 83% vs chain restaurants 62%. Interesting that there are only chain bakeries in LA (backeries represent 8% among chain establishments)."
   ]
  },
  {
   "cell_type": "markdown",
   "metadata": {},
   "source": [
    "### 2.3 Type of establishment as a typical chain <a class=\"anchor\" id=\"establishment3\"></a>"
   ]
  },
  {
   "cell_type": "code",
   "execution_count": 26,
   "metadata": {},
   "outputs": [],
   "source": [
    "chain = rest_type.query('chain == \"Chain\"')"
   ]
  },
  {
   "cell_type": "code",
   "execution_count": 27,
   "metadata": {},
   "outputs": [
    {
     "data": {
      "text/html": [
       "<div>\n",
       "<style scoped>\n",
       "    .dataframe tbody tr th:only-of-type {\n",
       "        vertical-align: middle;\n",
       "    }\n",
       "\n",
       "    .dataframe tbody tr th {\n",
       "        vertical-align: top;\n",
       "    }\n",
       "\n",
       "    .dataframe thead th {\n",
       "        text-align: right;\n",
       "    }\n",
       "</style>\n",
       "<table border=\"1\" class=\"dataframe\">\n",
       "  <thead>\n",
       "    <tr style=\"text-align: right;\">\n",
       "      <th></th>\n",
       "      <th>type</th>\n",
       "      <th>chain</th>\n",
       "      <th>rest_count</th>\n",
       "      <th>rest_part</th>\n",
       "      <th>type_chain</th>\n",
       "    </tr>\n",
       "  </thead>\n",
       "  <tbody>\n",
       "    <tr>\n",
       "      <td>0</td>\n",
       "      <td>Bakery</td>\n",
       "      <td>Chain</td>\n",
       "      <td>283</td>\n",
       "      <td>3.0</td>\n",
       "      <td>Bakery Chain</td>\n",
       "    </tr>\n",
       "    <tr>\n",
       "      <td>1</td>\n",
       "      <td>Bar</td>\n",
       "      <td>Not-chain</td>\n",
       "      <td>215</td>\n",
       "      <td>2.0</td>\n",
       "      <td>Bar Not-chain</td>\n",
       "    </tr>\n",
       "    <tr>\n",
       "      <td>2</td>\n",
       "      <td>Bar</td>\n",
       "      <td>Chain</td>\n",
       "      <td>77</td>\n",
       "      <td>1.0</td>\n",
       "      <td>Bar Chain</td>\n",
       "    </tr>\n",
       "    <tr>\n",
       "      <td>3</td>\n",
       "      <td>Cafe</td>\n",
       "      <td>Not-chain</td>\n",
       "      <td>169</td>\n",
       "      <td>2.0</td>\n",
       "      <td>Cafe Not-chain</td>\n",
       "    </tr>\n",
       "    <tr>\n",
       "      <td>4</td>\n",
       "      <td>Cafe</td>\n",
       "      <td>Chain</td>\n",
       "      <td>266</td>\n",
       "      <td>3.0</td>\n",
       "      <td>Cafe Chain</td>\n",
       "    </tr>\n",
       "    <tr>\n",
       "      <td>5</td>\n",
       "      <td>Fast Food</td>\n",
       "      <td>Not-chain</td>\n",
       "      <td>461</td>\n",
       "      <td>5.0</td>\n",
       "      <td>Fast Food Not-chain</td>\n",
       "    </tr>\n",
       "    <tr>\n",
       "      <td>6</td>\n",
       "      <td>Fast Food</td>\n",
       "      <td>Chain</td>\n",
       "      <td>605</td>\n",
       "      <td>6.0</td>\n",
       "      <td>Fast Food Chain</td>\n",
       "    </tr>\n",
       "    <tr>\n",
       "      <td>7</td>\n",
       "      <td>Pizza</td>\n",
       "      <td>Not-chain</td>\n",
       "      <td>167</td>\n",
       "      <td>2.0</td>\n",
       "      <td>Pizza Not-chain</td>\n",
       "    </tr>\n",
       "    <tr>\n",
       "      <td>8</td>\n",
       "      <td>Pizza</td>\n",
       "      <td>Chain</td>\n",
       "      <td>153</td>\n",
       "      <td>2.0</td>\n",
       "      <td>Pizza Chain</td>\n",
       "    </tr>\n",
       "    <tr>\n",
       "      <td>9</td>\n",
       "      <td>Restaurant</td>\n",
       "      <td>Not-chain</td>\n",
       "      <td>4963</td>\n",
       "      <td>51.0</td>\n",
       "      <td>Restaurant Not-chain</td>\n",
       "    </tr>\n",
       "    <tr>\n",
       "      <td>10</td>\n",
       "      <td>Restaurant</td>\n",
       "      <td>Chain</td>\n",
       "      <td>2292</td>\n",
       "      <td>24.0</td>\n",
       "      <td>Restaurant Chain</td>\n",
       "    </tr>\n",
       "  </tbody>\n",
       "</table>\n",
       "</div>"
      ],
      "text/plain": [
       "          type      chain  rest_count  rest_part            type_chain\n",
       "0       Bakery      Chain         283        3.0          Bakery Chain\n",
       "1          Bar  Not-chain         215        2.0         Bar Not-chain\n",
       "2          Bar      Chain          77        1.0             Bar Chain\n",
       "3         Cafe  Not-chain         169        2.0        Cafe Not-chain\n",
       "4         Cafe      Chain         266        3.0            Cafe Chain\n",
       "5    Fast Food  Not-chain         461        5.0   Fast Food Not-chain\n",
       "6    Fast Food      Chain         605        6.0       Fast Food Chain\n",
       "7        Pizza  Not-chain         167        2.0       Pizza Not-chain\n",
       "8        Pizza      Chain         153        2.0           Pizza Chain\n",
       "9   Restaurant  Not-chain        4963       51.0  Restaurant Not-chain\n",
       "10  Restaurant      Chain        2292       24.0      Restaurant Chain"
      ]
     },
     "execution_count": 27,
     "metadata": {},
     "output_type": "execute_result"
    }
   ],
   "source": [
    "rest_type"
   ]
  },
  {
   "cell_type": "code",
   "execution_count": 28,
   "metadata": {},
   "outputs": [
    {
     "data": {
      "text/html": [
       "<div>\n",
       "<style scoped>\n",
       "    .dataframe tbody tr th:only-of-type {\n",
       "        vertical-align: middle;\n",
       "    }\n",
       "\n",
       "    .dataframe tbody tr th {\n",
       "        vertical-align: top;\n",
       "    }\n",
       "\n",
       "    .dataframe thead th {\n",
       "        text-align: right;\n",
       "    }\n",
       "</style>\n",
       "<table border=\"1\" class=\"dataframe\">\n",
       "  <thead>\n",
       "    <tr style=\"text-align: right;\">\n",
       "      <th>chain</th>\n",
       "      <th>False</th>\n",
       "      <th>True</th>\n",
       "    </tr>\n",
       "    <tr>\n",
       "      <th>object_type</th>\n",
       "      <th></th>\n",
       "      <th></th>\n",
       "    </tr>\n",
       "  </thead>\n",
       "  <tbody>\n",
       "    <tr>\n",
       "      <td>Bakery</td>\n",
       "      <td>NaN</td>\n",
       "      <td>283.0</td>\n",
       "    </tr>\n",
       "    <tr>\n",
       "      <td>Bar</td>\n",
       "      <td>215.0</td>\n",
       "      <td>77.0</td>\n",
       "    </tr>\n",
       "    <tr>\n",
       "      <td>Cafe</td>\n",
       "      <td>169.0</td>\n",
       "      <td>266.0</td>\n",
       "    </tr>\n",
       "    <tr>\n",
       "      <td>Fast Food</td>\n",
       "      <td>461.0</td>\n",
       "      <td>605.0</td>\n",
       "    </tr>\n",
       "    <tr>\n",
       "      <td>Pizza</td>\n",
       "      <td>167.0</td>\n",
       "      <td>153.0</td>\n",
       "    </tr>\n",
       "    <tr>\n",
       "      <td>Restaurant</td>\n",
       "      <td>4963.0</td>\n",
       "      <td>2292.0</td>\n",
       "    </tr>\n",
       "  </tbody>\n",
       "</table>\n",
       "</div>"
      ],
      "text/plain": [
       "chain         False   True \n",
       "object_type                \n",
       "Bakery          NaN   283.0\n",
       "Bar           215.0    77.0\n",
       "Cafe          169.0   266.0\n",
       "Fast Food     461.0   605.0\n",
       "Pizza         167.0   153.0\n",
       "Restaurant   4963.0  2292.0"
      ]
     },
     "execution_count": 28,
     "metadata": {},
     "output_type": "execute_result"
    }
   ],
   "source": [
    "pv_rest_type"
   ]
  },
  {
   "cell_type": "code",
   "execution_count": 29,
   "metadata": {},
   "outputs": [
    {
     "name": "stderr",
     "output_type": "stream",
     "text": [
      "/opt/conda/lib/python3.7/site-packages/ipykernel_launcher.py:1: SettingWithCopyWarning: \n",
      "A value is trying to be set on a copy of a slice from a DataFrame.\n",
      "Try using .loc[row_indexer,col_indexer] = value instead\n",
      "\n",
      "See the caveats in the documentation: http://pandas.pydata.org/pandas-docs/stable/user_guide/indexing.html#returning-a-view-versus-a-copy\n",
      "  \"\"\"Entry point for launching an IPython kernel.\n"
     ]
    },
    {
     "data": {
      "text/html": [
       "<div>\n",
       "<style scoped>\n",
       "    .dataframe tbody tr th:only-of-type {\n",
       "        vertical-align: middle;\n",
       "    }\n",
       "\n",
       "    .dataframe tbody tr th {\n",
       "        vertical-align: top;\n",
       "    }\n",
       "\n",
       "    .dataframe thead th {\n",
       "        text-align: right;\n",
       "    }\n",
       "</style>\n",
       "<table border=\"1\" class=\"dataframe\">\n",
       "  <thead>\n",
       "    <tr style=\"text-align: right;\">\n",
       "      <th></th>\n",
       "      <th>type</th>\n",
       "      <th>chain</th>\n",
       "      <th>rest_count</th>\n",
       "      <th>rest_part</th>\n",
       "      <th>type_chain</th>\n",
       "      <th>chain_part</th>\n",
       "    </tr>\n",
       "  </thead>\n",
       "  <tbody>\n",
       "    <tr>\n",
       "      <td>0</td>\n",
       "      <td>Bakery</td>\n",
       "      <td>Chain</td>\n",
       "      <td>283</td>\n",
       "      <td>3.0</td>\n",
       "      <td>Bakery Chain</td>\n",
       "      <td>8.0</td>\n",
       "    </tr>\n",
       "    <tr>\n",
       "      <td>2</td>\n",
       "      <td>Bar</td>\n",
       "      <td>Chain</td>\n",
       "      <td>77</td>\n",
       "      <td>1.0</td>\n",
       "      <td>Bar Chain</td>\n",
       "      <td>2.0</td>\n",
       "    </tr>\n",
       "    <tr>\n",
       "      <td>4</td>\n",
       "      <td>Cafe</td>\n",
       "      <td>Chain</td>\n",
       "      <td>266</td>\n",
       "      <td>3.0</td>\n",
       "      <td>Cafe Chain</td>\n",
       "      <td>7.0</td>\n",
       "    </tr>\n",
       "    <tr>\n",
       "      <td>6</td>\n",
       "      <td>Fast Food</td>\n",
       "      <td>Chain</td>\n",
       "      <td>605</td>\n",
       "      <td>6.0</td>\n",
       "      <td>Fast Food Chain</td>\n",
       "      <td>16.0</td>\n",
       "    </tr>\n",
       "    <tr>\n",
       "      <td>8</td>\n",
       "      <td>Pizza</td>\n",
       "      <td>Chain</td>\n",
       "      <td>153</td>\n",
       "      <td>2.0</td>\n",
       "      <td>Pizza Chain</td>\n",
       "      <td>4.0</td>\n",
       "    </tr>\n",
       "    <tr>\n",
       "      <td>10</td>\n",
       "      <td>Restaurant</td>\n",
       "      <td>Chain</td>\n",
       "      <td>2292</td>\n",
       "      <td>24.0</td>\n",
       "      <td>Restaurant Chain</td>\n",
       "      <td>62.0</td>\n",
       "    </tr>\n",
       "  </tbody>\n",
       "</table>\n",
       "</div>"
      ],
      "text/plain": [
       "          type  chain  rest_count  rest_part        type_chain  chain_part\n",
       "0       Bakery  Chain         283        3.0      Bakery Chain         8.0\n",
       "2          Bar  Chain          77        1.0         Bar Chain         2.0\n",
       "4         Cafe  Chain         266        3.0        Cafe Chain         7.0\n",
       "6    Fast Food  Chain         605        6.0   Fast Food Chain        16.0\n",
       "8        Pizza  Chain         153        2.0       Pizza Chain         4.0\n",
       "10  Restaurant  Chain        2292       24.0  Restaurant Chain        62.0"
      ]
     },
     "execution_count": 29,
     "metadata": {},
     "output_type": "execute_result"
    }
   ],
   "source": [
    "chain['chain_part']=round(100 * chain['rest_count'] / chain.rest_count.sum())\n",
    "chain"
   ]
  },
  {
   "cell_type": "code",
   "execution_count": 30,
   "metadata": {},
   "outputs": [
    {
     "data": {
      "image/png": "[encoded data removed]",
      "text/plain": [
       "<Figure size 504x504 with 1 Axes>"
      ]
     },
     "metadata": {},
     "output_type": "display_data"
    }
   ],
   "source": [
    "pal = [\"royalblue\", \"dodgerblue\", \"lightskyblue\", \"lightblue\", \"#33faff\", \"#10c0c4\"]\n",
    "\n",
    "labels = chain.type\n",
    "sizes = chain.chain_part\n",
    "explode = (0,0,0,0,0,0.1)  \n",
    "\n",
    "fig1, ax1 = plt.subplots(figsize=(7,7))\n",
    "ax1.pie(sizes, explode=explode, labels=labels, autopct='%1.0f%%',\n",
    "        shadow=True, startangle=90, colors=pal)\n",
    "ax1.axis('equal')  \n",
    "plt.title('Type of establishment as a typical chain', fontdict={'size':16})\n",
    "\n",
    "plt.show()"
   ]
  },
  {
   "cell_type": "markdown",
   "metadata": {},
   "source": [
    "So, as a typical a chain we can see Restaurants (62%), then fast-food (16%), bakeries (8%) and cafés (7%).\n"
   ]
  },
  {
   "cell_type": "markdown",
   "metadata": {},
   "source": [
    "### 2.4 Characteristics of chains: many establishments with a small number of seats or a few establishments with a lot of seats <a class=\"anchor\" id=\"establishment4\"></a>"
   ]
  },
  {
   "cell_type": "code",
   "execution_count": 31,
   "metadata": {},
   "outputs": [],
   "source": [
    "pd.set_option(\"display.max_rows\", None, \"display.max_columns\", None)\n",
    "#rest_data"
   ]
  },
  {
   "cell_type": "code",
   "execution_count": 32,
   "metadata": {},
   "outputs": [
    {
     "data": {
      "text/plain": [
       "229"
      ]
     },
     "execution_count": 32,
     "metadata": {},
     "output_type": "execute_result"
    }
   ],
   "source": [
    "rest_data.query('chain==True')['number'].max()"
   ]
  },
  {
   "cell_type": "code",
   "execution_count": 33,
   "metadata": {},
   "outputs": [
    {
     "data": {
      "text/plain": [
       "count    3676.000000\n",
       "mean       39.694233\n",
       "std        43.437212\n",
       "min         1.000000\n",
       "25%        13.000000\n",
       "50%        25.000000\n",
       "75%        44.000000\n",
       "max       229.000000\n",
       "Name: number, dtype: float64"
      ]
     },
     "execution_count": 33,
     "metadata": {},
     "output_type": "execute_result"
    }
   ],
   "source": [
    "rest_data.query('chain==True')['number'].describe()"
   ]
  },
  {
   "cell_type": "code",
   "execution_count": 34,
   "metadata": {},
   "outputs": [
    {
     "data": {
      "text/plain": [
       "count    203.000000\n",
       "mean      18.108374\n",
       "std       26.401097\n",
       "min        1.000000\n",
       "25%        2.000000\n",
       "50%        5.000000\n",
       "75%       10.000000\n",
       "max       99.000000\n",
       "Name: number, dtype: float64"
      ]
     },
     "execution_count": 34,
     "metadata": {},
     "output_type": "execute_result"
    }
   ],
   "source": [
    "#let's see - the value_counts will return a count object of number of seats\n",
    "#and sort_values(ascending=False) will get us the highest values first\n",
    "rest_data.query('chain==True')['number'].value_counts(\n",
    ").sort_values(ascending=False).describe()"
   ]
  },
  {
   "cell_type": "markdown",
   "metadata": {},
   "source": [
    "There are 203 different varieties of number of seats in chain restaurants from 1 as a min to 229 as max number of seats. On average, there are 39 seats. 25% of chain establishments have 13 seats, 50% of them have 25 seats and 75% have 44 seats."
   ]
  },
  {
   "cell_type": "code",
   "execution_count": 35,
   "metadata": {},
   "outputs": [],
   "source": [
    "seats_chain=rest_data.query('chain==True')['number']"
   ]
  },
  {
   "cell_type": "code",
   "execution_count": 36,
   "metadata": {},
   "outputs": [
    {
     "data": {
      "text/plain": [
       "Text(0.5, 0.98, 'Number of seats among establishments (density)')"
      ]
     },
     "execution_count": 36,
     "metadata": {},
     "output_type": "execute_result"
    },
    {
     "data": {
      "image/png": "[encoded data removed]",
      "text/plain": [
       "<Figure size 1080x360 with 1 Axes>"
      ]
     },
     "metadata": {
      "needs_background": "light"
     },
     "output_type": "display_data"
    }
   ],
   "source": [
    "plt.figure(figsize=(15,5))\n",
    "lst1=seats_chain\n",
    "plt.grid(axis='y')\n",
    "sns.distplot(lst1,label='number of seats', color=\"#10c0c4\")\n",
    "#plt.subplots_adjust(top=0.9)\n",
    "plt.suptitle('Number of seats among establishments (density)') \n"
   ]
  },
  {
   "cell_type": "markdown",
   "metadata": {},
   "source": [
    "Based on our graph we can confirm, that there are many establishments with a small number of seats (under 50 seats) and fewer establishments with a lot of seats."
   ]
  },
  {
   "cell_type": "markdown",
   "metadata": {},
   "source": [
    "### 2.5 Average number of seats for each type of restaurant: on average, which type of restaurant has the greatest number of seats (graphs) <a class=\"anchor\" id=\"establishment5\"></a>"
   ]
  },
  {
   "cell_type": "code",
   "execution_count": 37,
   "metadata": {},
   "outputs": [],
   "source": [
    "rest_seat = rest_data.groupby('object_type').agg(\n",
    "    {'id':'nunique','number':'mean'}).reset_index()\n",
    "rest_seat.columns = ['type','rest_count','avg_seat']\n",
    "rest_seat=rest_seat.sort_values('avg_seat', axis=0, ascending=False)\n"
   ]
  },
  {
   "cell_type": "code",
   "execution_count": 38,
   "metadata": {},
   "outputs": [
    {
     "data": {
      "image/png": "[encoded data removed]",
      "text/plain": [
       "<Figure size 1080x576 with 1 Axes>"
      ]
     },
     "metadata": {
      "needs_background": "light"
     },
     "output_type": "display_data"
    }
   ],
   "source": [
    "fig,ax=plt.subplots(figsize=(15,8))\n",
    "\n",
    "ax.scatter(x=rest_seat.type,\n",
    "           y=rest_seat.avg_seat, \n",
    "           s=200, color='black', \n",
    "           alpha=0.7)\n",
    "sns.barplot(x=rest_seat.type, \n",
    "            y=rest_seat.rest_count, \n",
    "            color='#10c0c4', \n",
    "            alpha=0.7)\n",
    "plt.grid(axis='y')\n",
    "ax.set_title(\n",
    "    'Average number of seats for each type of restaurant', fontdict={'size':15})\n",
    "ax.set_ylabel(\n",
    "    'Average number of Seats - red \\n Number of Establishments - black', fontdict={'size':14})\n",
    "ax.set_xticks(rest_seat.type)\n",
    "ax.set_xticklabels(\n",
    "    rest_seat.type,\n",
    "    rotation=30,\n",
    "    fontdict={'horizontalalignment':'right','size':14}\n",
    ")\n",
    "for row in rest_seat.itertuples():\n",
    "    ax.text(\n",
    "        row.type, row.avg_seat+30, \n",
    "        s=round(row.avg_seat, 2), \n",
    "        color='red',\n",
    "        fontdict={'size':14}\n",
    "    ),\n",
    "    ax.text(\n",
    "        row.type, \n",
    "        row.rest_count+30, \n",
    "        s=round(row.rest_count, 0),\n",
    "        fontdict={'size':14}\n",
    "    ) "
   ]
  },
  {
   "cell_type": "markdown",
   "metadata": {},
   "source": [
    "We can see that the average number of seats in the restaurant is 48, 47 in the bar, 32 in the fast-food place, 28 in pizza place, 25 in a cafe, and 22 in the bakery."
   ]
  },
  {
   "cell_type": "markdown",
   "metadata": {},
   "source": [
    "### 2.6 Data on street names from the address column in a separate column  <a class=\"anchor\" id=\"streets1\"></a>"
   ]
  },
  {
   "cell_type": "code",
   "execution_count": 39,
   "metadata": {},
   "outputs": [
    {
     "data": {
      "text/html": [
       "<div>\n",
       "<style scoped>\n",
       "    .dataframe tbody tr th:only-of-type {\n",
       "        vertical-align: middle;\n",
       "    }\n",
       "\n",
       "    .dataframe tbody tr th {\n",
       "        vertical-align: top;\n",
       "    }\n",
       "\n",
       "    .dataframe thead th {\n",
       "        text-align: right;\n",
       "    }\n",
       "</style>\n",
       "<table border=\"1\" class=\"dataframe\">\n",
       "  <thead>\n",
       "    <tr style=\"text-align: right;\">\n",
       "      <th></th>\n",
       "      <th>id</th>\n",
       "      <th>object_name</th>\n",
       "      <th>chain</th>\n",
       "      <th>object_type</th>\n",
       "      <th>number</th>\n",
       "      <th>clean_street_final</th>\n",
       "      <th>address</th>\n",
       "      <th>street_raw</th>\n",
       "    </tr>\n",
       "  </thead>\n",
       "  <tbody>\n",
       "    <tr>\n",
       "      <td>0</td>\n",
       "      <td>11786</td>\n",
       "      <td>HABITAT COFFEE SHOP</td>\n",
       "      <td>False</td>\n",
       "      <td>Cafe</td>\n",
       "      <td>26</td>\n",
       "      <td>3708 ROCK, Los Angeles,USA</td>\n",
       "      <td>3708 N EAGLE ROCK BLVD</td>\n",
       "      <td>N EAGLE ROCK BLVD</td>\n",
       "    </tr>\n",
       "    <tr>\n",
       "      <td>1</td>\n",
       "      <td>11787</td>\n",
       "      <td>REILLY'S</td>\n",
       "      <td>False</td>\n",
       "      <td>Restaurant</td>\n",
       "      <td>9</td>\n",
       "      <td>100 WORLD, Los Angeles,USA</td>\n",
       "      <td>100 WORLD WAY # 120</td>\n",
       "      <td>WORLD WAY # 120</td>\n",
       "    </tr>\n",
       "    <tr>\n",
       "      <td>2</td>\n",
       "      <td>11788</td>\n",
       "      <td>STREET CHURROS</td>\n",
       "      <td>False</td>\n",
       "      <td>Fast Food</td>\n",
       "      <td>20</td>\n",
       "      <td>6801 HOLLYWOOD, Los Angeles,USA</td>\n",
       "      <td>6801 HOLLYWOOD BLVD # 253</td>\n",
       "      <td>HOLLYWOOD BLVD # 253</td>\n",
       "    </tr>\n",
       "    <tr>\n",
       "      <td>3</td>\n",
       "      <td>11789</td>\n",
       "      <td>TRINITI ECHO PARK</td>\n",
       "      <td>False</td>\n",
       "      <td>Restaurant</td>\n",
       "      <td>22</td>\n",
       "      <td>1814 SUNSET, Los Angeles,USA</td>\n",
       "      <td>1814 W SUNSET BLVD</td>\n",
       "      <td>W SUNSET BLVD</td>\n",
       "    </tr>\n",
       "    <tr>\n",
       "      <td>4</td>\n",
       "      <td>11790</td>\n",
       "      <td>POLLEN</td>\n",
       "      <td>False</td>\n",
       "      <td>Restaurant</td>\n",
       "      <td>20</td>\n",
       "      <td>2100 PARK, Los Angeles,USA</td>\n",
       "      <td>2100 ECHO PARK AVE</td>\n",
       "      <td>ECHO PARK AVE</td>\n",
       "    </tr>\n",
       "  </tbody>\n",
       "</table>\n",
       "</div>"
      ],
      "text/plain": [
       "      id          object_name  chain object_type  number  \\\n",
       "0  11786  HABITAT COFFEE SHOP  False        Cafe      26   \n",
       "1  11787             REILLY'S  False  Restaurant       9   \n",
       "2  11788       STREET CHURROS  False   Fast Food      20   \n",
       "3  11789    TRINITI ECHO PARK  False  Restaurant      22   \n",
       "4  11790               POLLEN  False  Restaurant      20   \n",
       "\n",
       "                clean_street_final                    address  \\\n",
       "0       3708 ROCK, Los Angeles,USA     3708 N EAGLE ROCK BLVD   \n",
       "1       100 WORLD, Los Angeles,USA        100 WORLD WAY # 120   \n",
       "2  6801 HOLLYWOOD, Los Angeles,USA  6801 HOLLYWOOD BLVD # 253   \n",
       "3     1814 SUNSET, Los Angeles,USA         1814 W SUNSET BLVD   \n",
       "4       2100 PARK, Los Angeles,USA         2100 ECHO PARK AVE   \n",
       "\n",
       "             street_raw  \n",
       "0     N EAGLE ROCK BLVD  \n",
       "1       WORLD WAY # 120  \n",
       "2  HOLLYWOOD BLVD # 253  \n",
       "3         W SUNSET BLVD  \n",
       "4         ECHO PARK AVE  "
      ]
     },
     "execution_count": 39,
     "metadata": {},
     "output_type": "execute_result"
    }
   ],
   "source": [
    "#let's add column \"street_raw\" based on our address column \n",
    "rest_data['street_number_raw']=rest_data['address']\n",
    "rest_data[['street_number_raw','street_raw']] = rest_data['street_number_raw'].str.split(n=1,expand=True)\n",
    "rest_data= rest_data[['id','object_name','chain','object_type','number','clean_street_final','address','street_raw']]\n",
    "rest_data.head()\n"
   ]
  },
  {
   "cell_type": "code",
   "execution_count": 40,
   "metadata": {},
   "outputs": [
    {
     "data": {
      "text/plain": [
       "74"
      ]
     },
     "execution_count": 40,
     "metadata": {},
     "output_type": "execute_result"
    }
   ],
   "source": [
    "rest_data.street_raw.value_counts().nunique()"
   ]
  },
  {
   "cell_type": "markdown",
   "metadata": {},
   "source": [
    "We found 74 unique street names from the address we had initially."
   ]
  },
  {
   "cell_type": "code",
   "execution_count": 41,
   "metadata": {},
   "outputs": [
    {
     "data": {
      "text/html": [
       "<div>\n",
       "<style scoped>\n",
       "    .dataframe tbody tr th:only-of-type {\n",
       "        vertical-align: middle;\n",
       "    }\n",
       "\n",
       "    .dataframe tbody tr th {\n",
       "        vertical-align: top;\n",
       "    }\n",
       "\n",
       "    .dataframe thead th {\n",
       "        text-align: right;\n",
       "    }\n",
       "</style>\n",
       "<table border=\"1\" class=\"dataframe\">\n",
       "  <thead>\n",
       "    <tr style=\"text-align: right;\">\n",
       "      <th></th>\n",
       "      <th>id</th>\n",
       "      <th>object_name</th>\n",
       "      <th>chain</th>\n",
       "      <th>object_type</th>\n",
       "      <th>number</th>\n",
       "      <th>clean_street_final</th>\n",
       "      <th>address</th>\n",
       "      <th>street</th>\n",
       "      <th>street_raw</th>\n",
       "    </tr>\n",
       "  </thead>\n",
       "  <tbody>\n",
       "    <tr>\n",
       "      <td>0</td>\n",
       "      <td>11786</td>\n",
       "      <td>HABITAT COFFEE SHOP</td>\n",
       "      <td>False</td>\n",
       "      <td>Cafe</td>\n",
       "      <td>26</td>\n",
       "      <td>3708 ROCK, Los Angeles,USA</td>\n",
       "      <td>3708 N EAGLE ROCK BLVD</td>\n",
       "      <td>ROCK,</td>\n",
       "      <td>N EAGLE ROCK BLVD</td>\n",
       "    </tr>\n",
       "    <tr>\n",
       "      <td>1</td>\n",
       "      <td>11787</td>\n",
       "      <td>REILLY'S</td>\n",
       "      <td>False</td>\n",
       "      <td>Restaurant</td>\n",
       "      <td>9</td>\n",
       "      <td>100 WORLD, Los Angeles,USA</td>\n",
       "      <td>100 WORLD WAY # 120</td>\n",
       "      <td>WORLD,</td>\n",
       "      <td>WORLD WAY # 120</td>\n",
       "    </tr>\n",
       "    <tr>\n",
       "      <td>2</td>\n",
       "      <td>11788</td>\n",
       "      <td>STREET CHURROS</td>\n",
       "      <td>False</td>\n",
       "      <td>Fast Food</td>\n",
       "      <td>20</td>\n",
       "      <td>6801 HOLLYWOOD, Los Angeles,USA</td>\n",
       "      <td>6801 HOLLYWOOD BLVD # 253</td>\n",
       "      <td>HOLLYWOOD,</td>\n",
       "      <td>HOLLYWOOD BLVD # 253</td>\n",
       "    </tr>\n",
       "    <tr>\n",
       "      <td>3</td>\n",
       "      <td>11789</td>\n",
       "      <td>TRINITI ECHO PARK</td>\n",
       "      <td>False</td>\n",
       "      <td>Restaurant</td>\n",
       "      <td>22</td>\n",
       "      <td>1814 SUNSET, Los Angeles,USA</td>\n",
       "      <td>1814 W SUNSET BLVD</td>\n",
       "      <td>SUNSET,</td>\n",
       "      <td>W SUNSET BLVD</td>\n",
       "    </tr>\n",
       "    <tr>\n",
       "      <td>4</td>\n",
       "      <td>11790</td>\n",
       "      <td>POLLEN</td>\n",
       "      <td>False</td>\n",
       "      <td>Restaurant</td>\n",
       "      <td>20</td>\n",
       "      <td>2100 PARK, Los Angeles,USA</td>\n",
       "      <td>2100 ECHO PARK AVE</td>\n",
       "      <td>PARK,</td>\n",
       "      <td>ECHO PARK AVE</td>\n",
       "    </tr>\n",
       "  </tbody>\n",
       "</table>\n",
       "</div>"
      ],
      "text/plain": [
       "      id          object_name  chain object_type  number  \\\n",
       "0  11786  HABITAT COFFEE SHOP  False        Cafe      26   \n",
       "1  11787             REILLY'S  False  Restaurant       9   \n",
       "2  11788       STREET CHURROS  False   Fast Food      20   \n",
       "3  11789    TRINITI ECHO PARK  False  Restaurant      22   \n",
       "4  11790               POLLEN  False  Restaurant      20   \n",
       "\n",
       "                clean_street_final                    address      street  \\\n",
       "0       3708 ROCK, Los Angeles,USA     3708 N EAGLE ROCK BLVD       ROCK,   \n",
       "1       100 WORLD, Los Angeles,USA        100 WORLD WAY # 120      WORLD,   \n",
       "2  6801 HOLLYWOOD, Los Angeles,USA  6801 HOLLYWOOD BLVD # 253  HOLLYWOOD,   \n",
       "3     1814 SUNSET, Los Angeles,USA         1814 W SUNSET BLVD     SUNSET,   \n",
       "4       2100 PARK, Los Angeles,USA         2100 ECHO PARK AVE       PARK,   \n",
       "\n",
       "             street_raw  \n",
       "0     N EAGLE ROCK BLVD  \n",
       "1       WORLD WAY # 120  \n",
       "2  HOLLYWOOD BLVD # 253  \n",
       "3         W SUNSET BLVD  \n",
       "4         ECHO PARK AVE  "
      ]
     },
     "execution_count": 41,
     "metadata": {},
     "output_type": "execute_result"
    }
   ],
   "source": [
    "#now let's add column \"street\" based on the US address analysis we did earlier\n",
    "\n",
    "rest_data['street_number']=rest_data['clean_street_final']\n",
    "rest_data[['street_number','street']] = rest_data['street_number'].str.split(n=1,expand=True)\n",
    "rest_data[['street','city']] = rest_data['street'].str.split(n=1,expand=True)\n",
    "rest_data= rest_data[['id','object_name','chain','object_type','number','clean_street_final','address','street','street_raw']]\n",
    "rest_data.head()"
   ]
  },
  {
   "cell_type": "code",
   "execution_count": 42,
   "metadata": {},
   "outputs": [
    {
     "data": {
      "text/plain": [
       "85"
      ]
     },
     "execution_count": 42,
     "metadata": {},
     "output_type": "execute_result"
    }
   ],
   "source": [
    "rest_data.street.value_counts().nunique()"
   ]
  },
  {
   "cell_type": "markdown",
   "metadata": {},
   "source": [
    "There are 85 unique street names based on our US address analysis."
   ]
  },
  {
   "cell_type": "markdown",
   "metadata": {},
   "source": [
    "### 2.7 Top ten streets by number of restaurants (graph)  <a class=\"anchor\" id=\"streets2\"></a>"
   ]
  },
  {
   "cell_type": "code",
   "execution_count": 43,
   "metadata": {},
   "outputs": [
    {
     "data": {
      "text/html": [
       "<div>\n",
       "<style scoped>\n",
       "    .dataframe tbody tr th:only-of-type {\n",
       "        vertical-align: middle;\n",
       "    }\n",
       "\n",
       "    .dataframe tbody tr th {\n",
       "        vertical-align: top;\n",
       "    }\n",
       "\n",
       "    .dataframe thead th {\n",
       "        text-align: right;\n",
       "    }\n",
       "</style>\n",
       "<table border=\"1\" class=\"dataframe\">\n",
       "  <thead>\n",
       "    <tr style=\"text-align: right;\">\n",
       "      <th></th>\n",
       "      <th>street</th>\n",
       "      <th>id</th>\n",
       "    </tr>\n",
       "  </thead>\n",
       "  <tbody>\n",
       "    <tr>\n",
       "      <td>415</td>\n",
       "      <td>WILSHIRE,</td>\n",
       "      <td>319</td>\n",
       "    </tr>\n",
       "    <tr>\n",
       "      <td>370</td>\n",
       "      <td>SUNSET,</td>\n",
       "      <td>297</td>\n",
       "    </tr>\n",
       "    <tr>\n",
       "      <td>408</td>\n",
       "      <td>WESTERN,</td>\n",
       "      <td>292</td>\n",
       "    </tr>\n",
       "    <tr>\n",
       "      <td>320</td>\n",
       "      <td>PICO,</td>\n",
       "      <td>283</td>\n",
       "    </tr>\n",
       "    <tr>\n",
       "      <td>304</td>\n",
       "      <td>OLYMPIC,</td>\n",
       "      <td>257</td>\n",
       "    </tr>\n",
       "    <tr>\n",
       "      <td>168</td>\n",
       "      <td>FIGUEROA,</td>\n",
       "      <td>234</td>\n",
       "    </tr>\n",
       "    <tr>\n",
       "      <td>387</td>\n",
       "      <td>VERMONT,</td>\n",
       "      <td>218</td>\n",
       "    </tr>\n",
       "    <tr>\n",
       "      <td>20</td>\n",
       "      <td>3RD,</td>\n",
       "      <td>208</td>\n",
       "    </tr>\n",
       "    <tr>\n",
       "      <td>283</td>\n",
       "      <td>MONICA,</td>\n",
       "      <td>204</td>\n",
       "    </tr>\n",
       "    <tr>\n",
       "      <td>214</td>\n",
       "      <td>HOLLYWOOD,</td>\n",
       "      <td>197</td>\n",
       "    </tr>\n",
       "  </tbody>\n",
       "</table>\n",
       "</div>"
      ],
      "text/plain": [
       "         street   id\n",
       "415   WILSHIRE,  319\n",
       "370     SUNSET,  297\n",
       "408    WESTERN,  292\n",
       "320       PICO,  283\n",
       "304    OLYMPIC,  257\n",
       "168   FIGUEROA,  234\n",
       "387    VERMONT,  218\n",
       "20         3RD,  208\n",
       "283     MONICA,  204\n",
       "214  HOLLYWOOD,  197"
      ]
     },
     "execution_count": 43,
     "metadata": {},
     "output_type": "execute_result"
    }
   ],
   "source": [
    "#let'see what streets we have in top 10\n",
    "rest_street = rest_data.query('object_type==\"Restaurant\"').groupby(['street']\n",
    "                               ).agg({'id':'nunique'}\n",
    "                                    ).reset_index().sort_values(\n",
    "    by='id', ascending=False)\n",
    "rest_street.head(10)"
   ]
  },
  {
   "cell_type": "code",
   "execution_count": 44,
   "metadata": {},
   "outputs": [
    {
     "data": {
      "text/html": [
       "<div>\n",
       "<style scoped>\n",
       "    .dataframe tbody tr th:only-of-type {\n",
       "        vertical-align: middle;\n",
       "    }\n",
       "\n",
       "    .dataframe tbody tr th {\n",
       "        vertical-align: top;\n",
       "    }\n",
       "\n",
       "    .dataframe thead th {\n",
       "        text-align: right;\n",
       "    }\n",
       "</style>\n",
       "<table border=\"1\" class=\"dataframe\">\n",
       "  <thead>\n",
       "    <tr style=\"text-align: right;\">\n",
       "      <th></th>\n",
       "      <th>street_raw</th>\n",
       "      <th>id</th>\n",
       "    </tr>\n",
       "  </thead>\n",
       "  <tbody>\n",
       "    <tr>\n",
       "      <td>2133</td>\n",
       "      <td>W PICO BLVD</td>\n",
       "      <td>218</td>\n",
       "    </tr>\n",
       "    <tr>\n",
       "      <td>2184</td>\n",
       "      <td>W SUNSET BLVD</td>\n",
       "      <td>217</td>\n",
       "    </tr>\n",
       "    <tr>\n",
       "      <td>471</td>\n",
       "      <td>HOLLYWOOD BLVD</td>\n",
       "      <td>136</td>\n",
       "    </tr>\n",
       "    <tr>\n",
       "      <td>2302</td>\n",
       "      <td>WILSHIRE BLVD</td>\n",
       "      <td>131</td>\n",
       "    </tr>\n",
       "    <tr>\n",
       "      <td>1757</td>\n",
       "      <td>W 3RD ST</td>\n",
       "      <td>119</td>\n",
       "    </tr>\n",
       "    <tr>\n",
       "      <td>1550</td>\n",
       "      <td>SANTA MONICA BLVD</td>\n",
       "      <td>107</td>\n",
       "    </tr>\n",
       "    <tr>\n",
       "      <td>2058</td>\n",
       "      <td>W OLYMPIC BLVD</td>\n",
       "      <td>107</td>\n",
       "    </tr>\n",
       "    <tr>\n",
       "      <td>1379</td>\n",
       "      <td>S VERMONT AVE</td>\n",
       "      <td>107</td>\n",
       "    </tr>\n",
       "    <tr>\n",
       "      <td>613</td>\n",
       "      <td>MELROSE AVE</td>\n",
       "      <td>106</td>\n",
       "    </tr>\n",
       "    <tr>\n",
       "      <td>125</td>\n",
       "      <td>BEVERLY BLVD</td>\n",
       "      <td>103</td>\n",
       "    </tr>\n",
       "  </tbody>\n",
       "</table>\n",
       "</div>"
      ],
      "text/plain": [
       "             street_raw   id\n",
       "2133        W PICO BLVD  218\n",
       "2184      W SUNSET BLVD  217\n",
       "471      HOLLYWOOD BLVD  136\n",
       "2302      WILSHIRE BLVD  131\n",
       "1757           W 3RD ST  119\n",
       "1550  SANTA MONICA BLVD  107\n",
       "2058     W OLYMPIC BLVD  107\n",
       "1379      S VERMONT AVE  107\n",
       "613         MELROSE AVE  106\n",
       "125        BEVERLY BLVD  103"
      ]
     },
     "execution_count": 44,
     "metadata": {},
     "output_type": "execute_result"
    }
   ],
   "source": [
    "rest_street_raw = rest_data.query('object_type==\"Restaurant\"').groupby(['street_raw']\n",
    "                               ).agg({'id':'nunique'}\n",
    "                                    ).reset_index().sort_values(\n",
    "    by='id', ascending=False)\n",
    "rest_street_raw.head(10)\n",
    "#print((rest_data[rest_data['address'].str.contains('SUNSET')])['street_raw'].value_counts())"
   ]
  },
  {
   "cell_type": "code",
   "execution_count": 45,
   "metadata": {},
   "outputs": [
    {
     "data": {
      "text/html": [
       "<div>\n",
       "<style scoped>\n",
       "    .dataframe tbody tr th:only-of-type {\n",
       "        vertical-align: middle;\n",
       "    }\n",
       "\n",
       "    .dataframe tbody tr th {\n",
       "        vertical-align: top;\n",
       "    }\n",
       "\n",
       "    .dataframe thead th {\n",
       "        text-align: right;\n",
       "    }\n",
       "</style>\n",
       "<table border=\"1\" class=\"dataframe\">\n",
       "  <thead>\n",
       "    <tr style=\"text-align: right;\">\n",
       "      <th></th>\n",
       "      <th>street</th>\n",
       "      <th>n_rest</th>\n",
       "    </tr>\n",
       "  </thead>\n",
       "  <tbody>\n",
       "    <tr>\n",
       "      <td>2133</td>\n",
       "      <td>W PICO BLVD</td>\n",
       "      <td>218</td>\n",
       "    </tr>\n",
       "    <tr>\n",
       "      <td>2184</td>\n",
       "      <td>W SUNSET BLVD</td>\n",
       "      <td>217</td>\n",
       "    </tr>\n",
       "    <tr>\n",
       "      <td>471</td>\n",
       "      <td>HOLLYWOOD BLVD</td>\n",
       "      <td>136</td>\n",
       "    </tr>\n",
       "    <tr>\n",
       "      <td>2302</td>\n",
       "      <td>WILSHIRE BLVD</td>\n",
       "      <td>131</td>\n",
       "    </tr>\n",
       "    <tr>\n",
       "      <td>1757</td>\n",
       "      <td>W 3RD ST</td>\n",
       "      <td>119</td>\n",
       "    </tr>\n",
       "    <tr>\n",
       "      <td>1550</td>\n",
       "      <td>SANTA MONICA BLVD</td>\n",
       "      <td>107</td>\n",
       "    </tr>\n",
       "    <tr>\n",
       "      <td>2058</td>\n",
       "      <td>W OLYMPIC BLVD</td>\n",
       "      <td>107</td>\n",
       "    </tr>\n",
       "    <tr>\n",
       "      <td>1379</td>\n",
       "      <td>S VERMONT AVE</td>\n",
       "      <td>107</td>\n",
       "    </tr>\n",
       "    <tr>\n",
       "      <td>613</td>\n",
       "      <td>MELROSE AVE</td>\n",
       "      <td>106</td>\n",
       "    </tr>\n",
       "    <tr>\n",
       "      <td>125</td>\n",
       "      <td>BEVERLY BLVD</td>\n",
       "      <td>103</td>\n",
       "    </tr>\n",
       "  </tbody>\n",
       "</table>\n",
       "</div>"
      ],
      "text/plain": [
       "                 street  n_rest\n",
       "2133        W PICO BLVD     218\n",
       "2184      W SUNSET BLVD     217\n",
       "471      HOLLYWOOD BLVD     136\n",
       "2302      WILSHIRE BLVD     131\n",
       "1757           W 3RD ST     119\n",
       "1550  SANTA MONICA BLVD     107\n",
       "2058     W OLYMPIC BLVD     107\n",
       "1379      S VERMONT AVE     107\n",
       "613         MELROSE AVE     106\n",
       "125        BEVERLY BLVD     103"
      ]
     },
     "execution_count": 45,
     "metadata": {},
     "output_type": "execute_result"
    }
   ],
   "source": [
    "rest_street_raw.columns=['street','n_rest']\n",
    "raw_top10=rest_street_raw.head(10)\n",
    "raw_top10"
   ]
  },
  {
   "cell_type": "code",
   "execution_count": 46,
   "metadata": {},
   "outputs": [],
   "source": [
    "rest_street.columns=['street','n_rest']\n",
    "top10=rest_street.head(10)"
   ]
  },
  {
   "cell_type": "markdown",
   "metadata": {},
   "source": [
    "In the given contsxt we'll use \"street_raw\" column as it contains more representative data for our purposes (we can not neglect in this context) street prefex (N,S,W,E etc)"
   ]
  },
  {
   "cell_type": "code",
   "execution_count": 47,
   "metadata": {},
   "outputs": [
    {
     "data": {
      "image/png": "[encoded data removed]",
      "text/plain": [
       "<Figure size 1080x360 with 1 Axes>"
      ]
     },
     "metadata": {
      "needs_background": "light"
     },
     "output_type": "display_data"
    }
   ],
   "source": [
    "plt.figure(figsize=(15,5))\n",
    "plt.title('Top 10 streets by number of restaurants')\n",
    "y_pos = np.arange(len(top10.n_rest))\n",
    "plt.bar(y_pos, raw_top10.n_rest,\n",
    "        color=[\"royalblue\", \"dodgerblue\", \"lightskyblue\", \"lightblue\", \"#33faff\", \"#10c0c4\", '#33a7ff', '#3361ff', '#3d33ff', '#3372ff'])\n",
    "plt.xticks(y_pos, raw_top10.street)\n",
    "plt.xticks(rotation=30)\n",
    "plt.grid(axis='y')\n",
    "plt.show()"
   ]
  },
  {
   "cell_type": "markdown",
   "metadata": {},
   "source": [
    "We found top 10 streets with number of restaurants that start with 3 boulevard: West Pico, West Sunset and Hollywood with 218, 217 and 136 restaurants respectively."
   ]
  },
  {
   "cell_type": "markdown",
   "metadata": {},
   "source": [
    "### 2.8 Number of streets that only have one restaurant  <a class=\"anchor\" id=\"streets3\"></a>"
   ]
  },
  {
   "cell_type": "code",
   "execution_count": 48,
   "metadata": {},
   "outputs": [
    {
     "name": "stdout",
     "output_type": "stream",
     "text": [
      "179\n"
     ]
    }
   ],
   "source": [
    "#rest_street.query('n_rest == 1')['street'].value_counts().sort_values()\n",
    "print(rest_street.query('n_rest == 1')['street'].nunique())"
   ]
  },
  {
   "cell_type": "markdown",
   "metadata": {},
   "source": [
    "We can see that there are at list 179 streets that have only 1 restaurant (note: we neglect in this context street prefix etc.)."
   ]
  },
  {
   "cell_type": "markdown",
   "metadata": {},
   "source": [
    "### 2.9 Trends for streets with a lot of restaurants and the distribution of the number of seats<a class=\"anchor\" id=\"streets4\"></a>"
   ]
  },
  {
   "cell_type": "code",
   "execution_count": 49,
   "metadata": {},
   "outputs": [
    {
     "data": {
      "text/html": [
       "<div>\n",
       "<style scoped>\n",
       "    .dataframe tbody tr th:only-of-type {\n",
       "        vertical-align: middle;\n",
       "    }\n",
       "\n",
       "    .dataframe tbody tr th {\n",
       "        vertical-align: top;\n",
       "    }\n",
       "\n",
       "    .dataframe thead th {\n",
       "        text-align: right;\n",
       "    }\n",
       "</style>\n",
       "<table border=\"1\" class=\"dataframe\">\n",
       "  <thead>\n",
       "    <tr style=\"text-align: right;\">\n",
       "      <th></th>\n",
       "      <th>street_raw</th>\n",
       "      <th>id</th>\n",
       "      <th>number</th>\n",
       "    </tr>\n",
       "  </thead>\n",
       "  <tbody>\n",
       "    <tr>\n",
       "      <td>2133</td>\n",
       "      <td>W PICO BLVD</td>\n",
       "      <td>218</td>\n",
       "      <td>45.215596</td>\n",
       "    </tr>\n",
       "    <tr>\n",
       "      <td>2184</td>\n",
       "      <td>W SUNSET BLVD</td>\n",
       "      <td>217</td>\n",
       "      <td>55.705069</td>\n",
       "    </tr>\n",
       "    <tr>\n",
       "      <td>471</td>\n",
       "      <td>HOLLYWOOD BLVD</td>\n",
       "      <td>136</td>\n",
       "      <td>58.441176</td>\n",
       "    </tr>\n",
       "    <tr>\n",
       "      <td>2302</td>\n",
       "      <td>WILSHIRE BLVD</td>\n",
       "      <td>131</td>\n",
       "      <td>67.068702</td>\n",
       "    </tr>\n",
       "    <tr>\n",
       "      <td>1757</td>\n",
       "      <td>W 3RD ST</td>\n",
       "      <td>119</td>\n",
       "      <td>47.655462</td>\n",
       "    </tr>\n",
       "    <tr>\n",
       "      <td>1550</td>\n",
       "      <td>SANTA MONICA BLVD</td>\n",
       "      <td>107</td>\n",
       "      <td>35.158879</td>\n",
       "    </tr>\n",
       "    <tr>\n",
       "      <td>2058</td>\n",
       "      <td>W OLYMPIC BLVD</td>\n",
       "      <td>107</td>\n",
       "      <td>59.644860</td>\n",
       "    </tr>\n",
       "    <tr>\n",
       "      <td>1379</td>\n",
       "      <td>S VERMONT AVE</td>\n",
       "      <td>107</td>\n",
       "      <td>47.841121</td>\n",
       "    </tr>\n",
       "    <tr>\n",
       "      <td>613</td>\n",
       "      <td>MELROSE AVE</td>\n",
       "      <td>106</td>\n",
       "      <td>55.216981</td>\n",
       "    </tr>\n",
       "    <tr>\n",
       "      <td>125</td>\n",
       "      <td>BEVERLY BLVD</td>\n",
       "      <td>103</td>\n",
       "      <td>51.873786</td>\n",
       "    </tr>\n",
       "  </tbody>\n",
       "</table>\n",
       "</div>"
      ],
      "text/plain": [
       "             street_raw   id     number\n",
       "2133        W PICO BLVD  218  45.215596\n",
       "2184      W SUNSET BLVD  217  55.705069\n",
       "471      HOLLYWOOD BLVD  136  58.441176\n",
       "2302      WILSHIRE BLVD  131  67.068702\n",
       "1757           W 3RD ST  119  47.655462\n",
       "1550  SANTA MONICA BLVD  107  35.158879\n",
       "2058     W OLYMPIC BLVD  107  59.644860\n",
       "1379      S VERMONT AVE  107  47.841121\n",
       "613         MELROSE AVE  106  55.216981\n",
       "125        BEVERLY BLVD  103  51.873786"
      ]
     },
     "execution_count": 49,
     "metadata": {},
     "output_type": "execute_result"
    }
   ],
   "source": [
    "rest_street_raw_seats = rest_data.query('object_type==\"Restaurant\"'\n",
    "                                       ).groupby(['street_raw']\n",
    "                               ).agg({'id':'nunique', 'number':'mean'}\n",
    "                                    ).reset_index().sort_values(\n",
    "    by='id', ascending=False)\n",
    "rest_street_raw_seats.head(10)"
   ]
  },
  {
   "cell_type": "code",
   "execution_count": 50,
   "metadata": {},
   "outputs": [],
   "source": [
    "rest_street_raw_seats.columns=['street','n_rest','avg_seats']\n",
    "top20=rest_street_raw_seats.head(20)\n",
    "top20=top20.sort_values(by='avg_seats', ascending=False)\n",
    "#top20"
   ]
  },
  {
   "cell_type": "code",
   "execution_count": 51,
   "metadata": {},
   "outputs": [
    {
     "data": {
      "image/png": "[encoded data removed]",
      "text/plain": [
       "<Figure size 936x720 with 1 Axes>"
      ]
     },
     "metadata": {
      "needs_background": "light"
     },
     "output_type": "display_data"
    }
   ],
   "source": [
    "fig,ax=plt.subplots(figsize=(13,10))\n",
    "\n",
    "ax.scatter(x=top20.street,\n",
    "           y=top20.avg_seats, \n",
    "           s=50, color='black', \n",
    "           alpha=0.8)\n",
    "\n",
    "sns.barplot(x=top20.street, \n",
    "            y=top20.n_rest, \n",
    "            color='#10c0c4', \n",
    "            alpha=0.4)\n",
    "\n",
    "ax.set_title(\n",
    "    'Average number of seats for streets with most of restaurants', fontdict={'size':15})\n",
    "ax.set_ylabel(\n",
    "    'Average number of Seats - green (dot) \\n Number of Restaurants - blue (bar)', fontdict={'size':14})\n",
    "ax.set_xticks(top20.street)\n",
    "ax.set_xticklabels(\n",
    "    top20.street,\n",
    "    rotation=30,\n",
    "    fontdict={'horizontalalignment':'right','size':14}\n",
    ")\n",
    "for row in top20.itertuples():\n",
    "    ax.text(\n",
    "        row.street, row.avg_seats, \n",
    "        s=round(row.avg_seats), \n",
    "        color='green',\n",
    "        fontdict={'size':14}\n",
    "    ),\n",
    "    ax.text(\n",
    "        row.street, \n",
    "        row.n_rest, \n",
    "        s=round(row.n_rest),\n",
    "        fontdict={'size':14}\n",
    "    ) \n",
    "    "
   ]
  },
  {
   "cell_type": "markdown",
   "metadata": {},
   "source": [
    "Based on our data we can see that among 20 streets with most of restaurants, the highest average number of seats is on Wilshire boulevards (67), West 7ht street (66) and Westwood boulevard (61). "
   ]
  },
  {
   "cell_type": "markdown",
   "metadata": {},
   "source": [
    "### 2.10 Conclusion <a class=\"anchor\" id=\"analysis-conc\"></a>"
   ]
  },
  {
   "cell_type": "markdown",
   "metadata": {},
   "source": [
    "Following our analysis, we found that 75% of **all establishments** are restaurants; 11% of fast food places; 5% of cafés; pizza places, bars and bakeries represent 3% each.\n",
    "\n",
    "We can see that the major players among non-chain places are restaurants (83%) vs restaurants 62% within the chain places. Interesting that there are only chain bakeries (no non-chain bakeries at all) in LA, that represent 8% among chain establishments.\n",
    "\n",
    "As a typical a **chain** we can see Restaurants (62%), then fast-food (16%), bakeries (8%) and cafés (7%).\n",
    "\n",
    "There are 203 different varieties of **number of seats** in **chain** restaurants from 1 as a min to 229 as max number of seats. On average, there are 39 seats. 25% of chain establishments have 13 seats, 50% of them have 25 seats and 75% have 44 seats.\n",
    "\n",
    "We saw that there are many establishments with a small **number of seats** (under 50 seats) and fewer establishments with a lot of seats.\n",
    "\n",
    "We can see that the average number of seats in the restaurant is 48, 47 in the bar, 32 in the fast-food place, 28 in pizza place, 25 in a cafe, and 22 in the bakery.\n",
    "\n",
    "There are 85 unique **street** names based on our US address analysis and 74 unique street names from the address we had initially (uncleaned).\n",
    "\n",
    "We found top 10 streets with number of restaurants that start with 3 boulevard: West Pico, West Sunset and Hollywood with 218, 217 and 136 restaurants respectively.\n",
    "\n",
    "We saw that there are at list 179 streets that have only 1 restaurant (note: we neglect in this context street prefix).\n",
    "\n",
    "Based on our data we found that among 20 streets with the highest number of restaurants, the highest average number of seats is on Wilshire boulevards (67), West 7ht street (66) and Westwood boulevard (61)."
   ]
  },
  {
   "cell_type": "markdown",
   "metadata": {},
   "source": [
    "## Step 3. Preparing a presentation <a class=\"anchor\" id=\"presentation\"></a>"
   ]
  },
  {
   "cell_type": "markdown",
   "metadata": {},
   "source": [
    "### Link <a class=\"anchor\" id=\"presentation-conc\"></a>\n",
    "\n",
    "https://drive.google.com/file/d/1HK954FviS89xqUkienT5HOKz2bALuh08/view?usp=sharing"
   ]
  },
  {
   "cell_type": "markdown",
   "metadata": {},
   "source": [
    "## Step 4. General conclusion <a class=\"anchor\" id=\"conclusion\"></a>"
   ]
  },
  {
   "cell_type": "markdown",
   "metadata": {},
   "source": [
    "In the present research we worked with a data set from the open-source data on restaurants in LA. It was saved as a table: rest_data. Its total length is 9651 rows, every row represents one restaurant and its characteristics in columns: object_name — establishment (restaurant's) name; chain — chain establishment (TRUE/FALSE); object_type — establishment type; address — address; number — number of seats.\n",
    "\n",
    "While checking duplicated values we didn't find anything suspicious at this stage. While checking missing values we found 3 missing values in the chain column for the following restaurants: TAQUERIA LOS 3 CARNALES, JAMMIN JIMMY'S PIZZA, THE LEXINGTON THEATER. Then we replaced name \"JAMMIN JIMMY'S PIZZA\" (id 19309) with \"JAMMIN JIMMYS PIZZA\" to avoid data analysis issues. As these restaurants names were unique, we supposed that they were not chains, thus, null values were replaced by 'False'.\n",
    "\n",
    "Then we checked address column. To work properly with the US addresses, first, we imported usaddress library and then created a function that deconstructed the street so we got street name and number in order to get the clean address saved in the didcated column clean_street_final.\n",
    "\n",
    "Following our analysis, we found that 75% of all establishments are restaurants; 11% of fast food places; 5% of cafés; pizza places, bars and bakeries represent 3% each.\n",
    "\n",
    "We can see that the major players among non-chain places are restaurants (83%) vs restaurants 62% within the chain places. Interesting that there are only chain bakeries (no non-chain bakeries at all) in LA, that represent 8% among chain establishments.\n",
    "\n",
    "As a typical a chain we can see Restaurants (62%), then fast-food (16%), bakeries (8%) and cafés (7%).\n",
    "\n",
    "There are 203 different varieties of number of seats in chain restaurants from 1 as a min to 229 as max number of seats. On average, there are 39 seats. 25% of chain establishments have 13 seats, 50% of them have 25 seats and 75% have 44 seats.\n",
    "\n",
    "We saw that there are many establishments with a small number of seats (under 50 seats) and fewer establishments with a lot of seats.\n",
    "\n",
    "We can see that the average number of seats in the restaurant is 48, 47 in the bar, 32 in the fast-food place, 28 in pizza place, 25 in a cafe, and 22 in the bakery.\n",
    "\n",
    "There are 85 unique street names based on our US address analysis and 74 unique street names from the address we had initially (uncleaned).\n",
    "\n",
    "We found top 10 streets with number of restaurants that start with 3 boulevard: West Pico, West Sunset and Hollywood with 218, 217 and 136 restaurants respectively.\n",
    "\n",
    "We saw that there are at list 179 streets that have only 1 restaurant (note: we neglect in this context street prefix).\n",
    "\n",
    "Based on our data we found that among 20 streets with the highest number of restaurants, the highest average number of seats is on Wilshire boulevards (67), West 7ht street (66) and Westwood boulevard (61).\n",
    "\n",
    "**As a result, based on open source data on almost 10k restaurants, cafes and similar places in LA we found that at list ~180 streets have only one restaurant; top 3 locations for restaurants are boulevards: West Sunset, West Pico and Hollywood. Most of places have 55 seats and there is no non-chain bakeries, but they are still more numerous than cafes - 8% vs 5%.**\n",
    "\n",
    "**Thus, it is recommended to open a robot-run cafe in one of the top locations: West Sunset or Hollywood boulevard with number of seats between 25 to 30.**"
   ]
  },
  {
   "cell_type": "code",
   "execution_count": null,
   "metadata": {},
   "outputs": [],
   "source": []
  }
 ],
 "metadata": {
  "kernelspec": {
   "display_name": "Python 3",
   "language": "python",
   "name": "python3"
  },
  "language_info": {
   "codemirror_mode": {
    "name": "ipython",
    "version": 3
   },
   "file_extension": ".py",
   "mimetype": "text/x-python",
   "name": "python",
   "nbconvert_exporter": "python",
   "pygments_lexer": "ipython3",
   "version": "3.7.8"
  },
  "toc": {
   "base_numbering": 1,
   "nav_menu": {},
   "number_sections": true,
   "sideBar": true,
   "skip_h1_title": false,
   "title_cell": "Table of Contents",
   "title_sidebar": "Contents",
   "toc_cell": false,
   "toc_position": {},
   "toc_section_display": true,
   "toc_window_display": false
  }
 },
 "nbformat": 4,
 "nbformat_minor": 2
}
